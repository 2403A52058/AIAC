{
  "nbformat": 4,
  "nbformat_minor": 0,
  "metadata": {
    "colab": {
      "provenance": [],
      "authorship_tag": "ABX9TyOaAGQUIHBSH49tei4pwDc/",
      "include_colab_link": true
    },
    "kernelspec": {
      "name": "python3",
      "display_name": "Python 3"
    },
    "language_info": {
      "name": "python"
    }
  },
  "cells": [
    {
      "cell_type": "markdown",
      "metadata": {
        "id": "view-in-github",
        "colab_type": "text"
      },
      "source": [
        "<a href=\"https://colab.research.google.com/github/2403A52058/AIAC/blob/main/LAB_13_2ipynb.ipynb\" target=\"_parent\"><img src=\"https://colab.research.google.com/assets/colab-badge.svg\" alt=\"Open In Colab\"/></a>"
      ]
    },
    {
      "cell_type": "markdown",
      "source": [
        "Task Description #1 – Remove Repetition\n",
        "Task: Provide AI with the following redundant code and ask it to\n",
        "refactor\n",
        "Python Code\n",
        "\n",
        "def calculate_area(shape, x, y=0):\n",
        "\n",
        "if shape == \"rectangle\":\n",
        "\n",
        "return x * y\n",
        "\n",
        "elif shape == \"square\":\n",
        "\n",
        "return x * x\n",
        "\n",
        "elif shape == \"circle\":\n",
        "\n",
        "return 3.14 * x * x\n",
        "\n",
        "PROMPT:refactor the above code"
      ],
      "metadata": {
        "id": "vDmc3nHx1RJK"
      }
    },
    {
      "cell_type": "code",
      "source": [
        "import math\n",
        "\n",
        "def calculate_area(shape, x, y=0):\n",
        "  \"\"\"Calculates the area of a given shape.\n",
        "\n",
        "  Args:\n",
        "    shape: The type of shape (\"rectangle\", \"square\", or \"circle\").\n",
        "    x: The primary dimension (side for square/rectangle, radius for circle).\n",
        "    y: The secondary dimension (side for rectangle, defaults to 0).\n",
        "\n",
        "  Returns:\n",
        "    The area of the shape.\n",
        "  \"\"\"\n",
        "  if shape == \"rectangle\":\n",
        "    return x * y\n",
        "  elif shape == \"square\":\n",
        "    return x ** 2  # Use exponentiation for squaring\n",
        "  elif shape == \"circle\":\n",
        "    return math.pi * x ** 2 # Use math.pi for a more accurate value\n",
        "\n",
        "# Example usage:\n",
        "print(calculate_area(\"rectangle\", 5, 10))\n",
        "print(calculate_area(\"square\", 7))\n",
        "print(calculate_area(\"circle\", 3))"
      ],
      "metadata": {
        "colab": {
          "base_uri": "https://localhost:8080/"
        },
        "id": "-wAeK6hs1sv3",
        "outputId": "e072d484-739d-4b82-baf0-6b15d51bc665"
      },
      "execution_count": 1,
      "outputs": [
        {
          "output_type": "stream",
          "name": "stdout",
          "text": [
            "50\n",
            "49\n",
            "28.274333882308138\n"
          ]
        }
      ]
    },
    {
      "cell_type": "markdown",
      "source": [
        "EXPLANATION:\n",
        "\n",
        "This Python code calculates the area of different shapes. It defines a function calculate_area that takes the shape type and dimensions as input. It uses math.pi for a more accurate circle area calculation. The function uses if-elif statements to handle different shapes. For a rectangle, it multiplies x and y. For a square, it squares x. For a circle, it uses the formula pi * radius^2"
      ],
      "metadata": {
        "id": "e-tbTaQs2Kjx"
      }
    },
    {
      "cell_type": "markdown",
      "source": [
        "Task Description #2 – Error Handling in Legacy Code\n",
        "Task: Legacy function without proper error handling\n",
        "Python Code\n",
        "\n",
        "def read_file(filename):\n",
        "                           \n",
        "f = open(filename, \"r\")\n",
        "                   \n",
        "data = f.read()\n",
        "                      \n",
        "f.close()\n",
        "                 \n",
        "return data\n",
        "\n",
        "PROMPT:\n",
        "\n",
        "Prompt:Refactor this Python function to use with open() and proper try-except error handling:\n",
        "Python Code\n",
        "def read_file(filename):\n",
        "f = open(filename, \"r\")\n",
        "data = f.read()\n",
        "f.close()\n",
        "return data\n",
        "\n",
        "\n",
        "\n"
      ],
      "metadata": {
        "id": "jYCL-l6E2su3"
      }
    },
    {
      "cell_type": "code",
      "source": [
        "def read_file(filename):\n",
        "  \"\"\"Reads the content of a file with error handling.\n",
        "\n",
        "  Args:\n",
        "    filename: The name of the file to read.\n",
        "\n",
        "  Returns:\n",
        "    The content of the file, or None if an error occurs.\n",
        "  \"\"\"\n",
        "  try:\n",
        "    with open(filename, \"r\") as f:\n",
        "      data = f.read()\n",
        "    return data\n",
        "  except FileNotFoundError:\n",
        "    print(f\"Error: The file '{filename}' was not found.\")\n",
        "    return None\n",
        "  except Exception as e:\n",
        "    print(f\"An error occurred while reading the file: {e}\")\n",
        "    return None\n",
        "\n",
        "# Example usage (will produce an error as the file doesn't exist):\n",
        "file_content = read_file(\"non_existent_file.txt\")\n",
        "if file_content:\n",
        "  print(\"File content:\")\n",
        "  print(file_content)\n",
        "\n",
        "# Example usage with a file that exists (create a dummy file first):\n",
        "with open(\"dummy_file.txt\", \"w\") as f:\n",
        "  f.write(\"This is some dummy content.\")\n",
        "\n",
        "file_content = read_file(\"dummy_file.txt\")\n",
        "if file_content:\n",
        "  print(\"File content:\")\n",
        "  print(file_content)"
      ],
      "metadata": {
        "colab": {
          "base_uri": "https://localhost:8080/"
        },
        "id": "8AGpfGxG3n8H",
        "outputId": "dcf47c49-8fe4-43af-ca65-8f45f80fbfff"
      },
      "execution_count": 2,
      "outputs": [
        {
          "output_type": "stream",
          "name": "stdout",
          "text": [
            "Error: The file 'non_existent_file.txt' was not found.\n",
            "File content:\n",
            "This is some dummy content.\n"
          ]
        }
      ]
    },
    {
      "cell_type": "markdown",
      "source": [
        "EXPLANATION:\n",
        "\n",
        "\n",
        "1. The function `read_file(filename)` tries to open and read a file’s content safely\n",
        ".\n",
        "2. It uses a `try` block to handle possible file errors.\n",
        "\n",
        "3. If the file doesn’t exist, it catches a `FileNotFoundError` and prints an error message.\n",
        "\n",
        "4. Any other unexpected error is caught by a general `Exception` handler.\n",
        "\n",
        "5. Example calls show what happens when reading a missing file (error) and an existing one (prints content).\n"
      ],
      "metadata": {
        "id": "9HquhIN939pA"
      }
    },
    {
      "cell_type": "markdown",
      "source": [
        "Task Description #3 – Complex Refactoring\n",
        "Task: Provide this legacy class to AI for readability and modularity\n",
        "improvements:\n",
        "Python Code\n",
        "class Student:\n",
        "def __init__(self, n, a, m1, m2, m3):\n",
        "\n",
        "self.n = n\n",
        "                  \n",
        "self.a = a\n",
        "               \n",
        "self.m1 = m1\n",
        "                  \n",
        "self.m2 = m2\n",
        "\n",
        "self.m3 = m3\n",
        "\n",
        "def details(self):\n",
        "\n",
        "print(\"Name:\", self.n, \"Age:\", self.a)\n",
        "\n",
        "def total(self):\n",
        "\n",
        "return self.m1+self.m2+self.m3\n",
        "\n",
        "PROMPT:Refactor the following legacy Student class for better readability and modularity. Improve variable naming, add docstrings, make print statements more readable, and store marks in a list so total marks can be computed using sum(self.marks)"
      ],
      "metadata": {
        "id": "7qb12nF84XFR"
      }
    },
    {
      "cell_type": "code",
      "source": [
        "class Student:\n",
        "    \"\"\"Represents a student with name, age, and marks.\"\"\"\n",
        "\n",
        "    def __init__(self, name, age, mark1, mark2, mark3):\n",
        "        \"\"\"Initializes a new Student object.\n",
        "\n",
        "        Args:\n",
        "            name: The name of the student.\n",
        "            age: The age of the student.\n",
        "            mark1: The first mark.\n",
        "            mark2: The second mark.\n",
        "            mark3: The third mark.\n",
        "        \"\"\"\n",
        "        self.name = name\n",
        "        self.age = age\n",
        "        self.marks = [mark1, mark2, mark3]\n",
        "\n",
        "    def details(self):\n",
        "        \"\"\"Prints the student's name and age.\"\"\"\n",
        "        print(f\"Name: {self.name}, Age: {self.age}\")\n",
        "\n",
        "    def total_marks(self):\n",
        "        \"\"\"Calculates the total marks of the student.\"\"\"\n",
        "        return sum(self.marks)\n",
        "\n",
        "# Example usage:\n",
        "student1 = Student(\"Alice\", 16, 85, 90, 78)\n",
        "student1.details()\n",
        "print(f\"Total Marks: {student1.total_marks()}\")"
      ],
      "metadata": {
        "colab": {
          "base_uri": "https://localhost:8080/"
        },
        "id": "yhhxs6844q4J",
        "outputId": "c0a6cac0-c8a6-4df8-a503-f5db97682c9c"
      },
      "execution_count": 3,
      "outputs": [
        {
          "output_type": "stream",
          "name": "stdout",
          "text": [
            "Name: Alice, Age: 16\n",
            "Total Marks: 253\n"
          ]
        }
      ]
    },
    {
      "cell_type": "markdown",
      "source": [
        "EXPLANATION:\n",
        "1. The `Student` class represents a student with their name, age, and three marks.\n",
        "\n",
        "2. The `__init__` method initializes these attributes when a `Student` object is created.\n",
        "\n",
        "3. The marks are stored in a list called `self.marks`.\n",
        "\n",
        "4. The `details()` method prints the student's name and age.\n",
        "\n",
        "5. The `total_marks()` method returns the sum of all three marks.\n",
        "\n",
        "6. In the example, a `Student` object named “Alice” is created, her details are printed, and her total marks are displayed.\n"
      ],
      "metadata": {
        "id": "jM_Pn-p95DA3"
      }
    },
    {
      "cell_type": "markdown",
      "source": [
        "Task Description #4 – Inefficient Loop Refactoring\n",
        "Task: Refactor this inefficient loop with AI help\n",
        "Python Code\n",
        "nums = [1,2,3,4,5,6,7,8,9,10]\n",
        "\n",
        "squares = []\n",
        "\n",
        "for i in nums:\n",
        "\n",
        "squares.append(i * i)\n",
        "\n",
        "Expected Output: AI suggested a list comprehension\n",
        "\n",
        "PROMPT:Refactor this inefficient loop in the code\n",
        "\n"
      ],
      "metadata": {
        "id": "DPegq1Y25azz"
      }
    },
    {
      "cell_type": "code",
      "source": [
        "nums = [1, 2, 3, 4, 5, 6, 7, 8, 9, 10]\n",
        "\n",
        "# Refactored loop using a list comprehension\n",
        "squares = [i * i for i in nums]\n",
        "\n",
        "print(squares)"
      ],
      "metadata": {
        "colab": {
          "base_uri": "https://localhost:8080/"
        },
        "id": "VqBNsUE85xQl",
        "outputId": "25335f82-06af-455e-a4aa-b9664a46317c"
      },
      "execution_count": 4,
      "outputs": [
        {
          "output_type": "stream",
          "name": "stdout",
          "text": [
            "[1, 4, 9, 16, 25, 36, 49, 64, 81, 100]\n"
          ]
        }
      ]
    },
    {
      "cell_type": "markdown",
      "source": [
        "EXPLANATION:\n",
        "1. A list `nums` is created containing numbers from 1 to 10.\n",
        "2. A list comprehension `[i * i for i in nums]` generates a new list of each number’s square.\n",
        "3. The resulting list of squares is printed.\n"
      ],
      "metadata": {
        "id": "7Zgc4hLH6ASi"
      }
    },
    {
      "cell_type": "code",
      "source": [],
      "metadata": {
        "id": "88neacZr6Ojk"
      },
      "execution_count": null,
      "outputs": []
    }
  ]
}