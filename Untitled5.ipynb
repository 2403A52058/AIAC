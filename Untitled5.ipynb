{
  "nbformat": 4,
  "nbformat_minor": 0,
  "metadata": {
    "colab": {
      "provenance": [],
      "authorship_tag": "ABX9TyPTLURgwIdP3geuaS2B3KTM",
      "include_colab_link": true
    },
    "kernelspec": {
      "name": "python3",
      "display_name": "Python 3"
    },
    "language_info": {
      "name": "python"
    }
  },
  "cells": [
    {
      "cell_type": "markdown",
      "metadata": {
        "id": "view-in-github",
        "colab_type": "text"
      },
      "source": [
        "<a href=\"https://colab.research.google.com/github/2403A52058/AIAC/blob/main/Untitled5.ipynb\" target=\"_parent\"><img src=\"https://colab.research.google.com/assets/colab-badge.svg\" alt=\"Open In Colab\"/></a>"
      ]
    },
    {
      "cell_type": "markdown",
      "source": [
        "Task Description #1 – Stack class implementation\n",
        "Task: Ask AI to implement a stack class with push(), pop(), peek() and\n",
        "is_empty() methods"
      ],
      "metadata": {
        "id": "UQS8KHU74ldV"
      }
    },
    {
      "cell_type": "markdown",
      "source": [
        "PROMPT:generate a python code that implementing a stack class with push(), pop(), peek() and is_empty() methods"
      ],
      "metadata": {
        "id": "ejm5ktC64zLS"
      }
    },
    {
      "cell_type": "code",
      "source": [
        "class Stack:\n",
        "    def __init__(self):\n",
        "        self.items = []\n",
        "\n",
        "    def is_empty(self):\n",
        "        return not self.items\n",
        "\n",
        "    def push(self, item):\n",
        "        self.items.append(item)\n",
        "\n",
        "    def pop(self):\n",
        "        if not self.is_empty():\n",
        "            return self.items.pop()\n",
        "        else:\n",
        "            return \"Stack is empty\"\n",
        "\n",
        "    def peek(self):\n",
        "        if not self.is_empty():\n",
        "            return self.items[-1]\n",
        "        else:\n",
        "            return \"Stack is empty\"\n",
        "\n",
        "# Example usage with user input:\n",
        "stack = Stack()\n",
        "\n",
        "while True:\n",
        "    print(\"\\nStack Operations:\")\n",
        "    print(\"1. Push\")\n",
        "    print(\"2. Pop\")\n",
        "    print(\"3. Peek\")\n",
        "    print(\"4. Check if empty\")\n",
        "    print(\"5. Exit\")\n",
        "\n",
        "    choice = input(\"Enter your choice: \")\n",
        "\n",
        "    if choice == '1':\n",
        "        item = input(\"Enter item to push: \")\n",
        "        stack.push(item)\n",
        "        print(f\"{item} pushed to stack.\")\n",
        "    elif choice == '2':\n",
        "        popped_item = stack.pop()\n",
        "        print(f\"Popped item: {popped_item}\")\n",
        "    elif choice == '3':\n",
        "        peeked_item = stack.peek()\n",
        "        print(f\"Top item: {peeked_item}\")\n",
        "    elif choice == '4':\n",
        "        if stack.is_empty():\n",
        "            print(\"Stack is empty.\")\n",
        "        else:\n",
        "            print(\"Stack is not empty.\")\n",
        "    elif choice == '5':\n",
        "        print(\"Exiting program.\")\n",
        "        break\n",
        "    else:\n",
        "        print(\"Invalid choice. Please try again.\")"
      ],
      "metadata": {
        "colab": {
          "base_uri": "https://localhost:8080/"
        },
        "id": "hUCF0MlJ5Hyo",
        "outputId": "571082da-93b4-4b23-a45c-57f5c663c6da"
      },
      "execution_count": 10,
      "outputs": [
        {
          "output_type": "stream",
          "name": "stdout",
          "text": [
            "\n",
            "Stack Operations:\n",
            "1. Push\n",
            "2. Pop\n",
            "3. Peek\n",
            "4. Check if empty\n",
            "5. Exit\n",
            "Enter your choice: 5\n",
            "Exiting program.\n"
          ]
        }
      ]
    },
    {
      "cell_type": "markdown",
      "source": [
        "EXPLANATION:\n",
        "1. A `Stack` class is defined using a list to store items, with standard methods: `push`, `pop`, `peek`, and `is_empty`.\n",
        "2. `is_empty()` checks if the stack is empty by evaluating if the list is empty.\n",
        "3. `push(item)` adds an item to the end (top) of the stack.\n",
        "4. `pop()` removes and returns the top item if the stack isn't empty; otherwise, it returns an error message.\n",
        "5. `peek()` returns the top item without removing it, or an error message if the stack is empty.\n",
        "6. A loop provides a menu for the user to perform stack operations interactively.\n",
        "7. Based on user input, the corresponding stack method is called, until the user chooses to exit.\n"
      ],
      "metadata": {
        "id": "HKMQEJuW6Z5D"
      }
    },
    {
      "cell_type": "markdown",
      "source": [
        "Task Description #2 – Queue Implementation\n",
        "Task: Use AI to generate a Queue class with enqueue(), dequeue(), and\n",
        "is_empty()."
      ],
      "metadata": {
        "id": "MSS_PjSX6uu2"
      }
    },
    {
      "cell_type": "markdown",
      "source": [
        "PROMPT:generate a python code of a Queue class with enqueue(), dequeue(), and\n",
        "is_empty()."
      ],
      "metadata": {
        "id": "mtdjJK7i7K0E"
      }
    },
    {
      "cell_type": "code",
      "source": [
        "class Queue:\n",
        "    def __init__(self):\n",
        "        self.items = []\n",
        "\n",
        "    def is_empty(self):\n",
        "        return not self.items\n",
        "\n",
        "    def enqueue(self, item):\n",
        "        self.items.insert(0, item)\n",
        "\n",
        "    def dequeue(self):\n",
        "        if not self.is_empty():\n",
        "            return self.items.pop()\n",
        "        else:\n",
        "            return \"Queue is empty\"\n",
        "\n",
        "# Example usage:\n",
        "queue = Queue()\n",
        "print(queue.is_empty())  # Output: True\n",
        "queue.enqueue(\"apple\")\n",
        "queue.enqueue(\"banana\")\n",
        "queue.enqueue(\"cherry\")\n",
        "print(queue.is_empty())  # Output: False\n",
        "print(queue.dequeue())   # Output: apple\n",
        "print(queue.dequeue())   # Output: banana\n",
        "print(queue.dequeue())   # Output: cherry\n",
        "print(queue.dequeue())   # Output: Queue is empty"
      ],
      "metadata": {
        "colab": {
          "base_uri": "https://localhost:8080/"
        },
        "id": "neXabaen7dUY",
        "outputId": "127d54a4-75e6-4f0b-b7ca-9256649bf1b8"
      },
      "execution_count": 7,
      "outputs": [
        {
          "output_type": "stream",
          "name": "stdout",
          "text": [
            "True\n",
            "False\n",
            "apple\n",
            "banana\n",
            "cherry\n",
            "Queue is empty\n"
          ]
        }
      ]
    },
    {
      "cell_type": "markdown",
      "source": [
        "EXPLANATION:\n",
        "\n",
        "1. A `Queue` class is created using a list, where `enqueue` adds items to the front, and `dequeue` removes from the end.\n",
        "2. `is_empty()` checks if the queue is empty by checking if the list is empty.\n",
        "3. `enqueue(item)` inserts an item at the beginning of the list to simulate queue behavior.\n",
        "4. `dequeue()` removes and returns the item from the end (oldest item), or returns an error message if empty.\n",
        "5. The example shows queue operations: checking if empty, adding items, removing them in FIFO order, and handling underflow.\n"
      ],
      "metadata": {
        "id": "mPNCBGL97nvn"
      }
    },
    {
      "cell_type": "markdown",
      "source": [
        "Task Description #3 – Linked List Implementation\n",
        "Task: Ask AI to create a singly linked list with insert_at_end(),\n",
        "insert_at_beginning(), and display()."
      ],
      "metadata": {
        "id": "pAL3p6Cm76_A"
      }
    },
    {
      "cell_type": "markdown",
      "source": [
        "PROMPT:Prompt:generate a python program by creating singly linked list with insert_at_end(), insert_at_beginning(), and display()"
      ],
      "metadata": {
        "id": "drKc3dSg81av"
      }
    },
    {
      "cell_type": "code",
      "source": [
        "class Node:\n",
        "    def __init__(self, data):\n",
        "        self.data = data\n",
        "        self.next = None\n",
        "\n",
        "class LinkedList:\n",
        "    def __init__(self):\n",
        "        self.head = None\n",
        "\n",
        "    def insert_at_beginning(self, data):\n",
        "        new_node = Node(data)\n",
        "        new_node.next = self.head\n",
        "        self.head = new_node\n",
        "\n",
        "    def insert_at_end(self, data):\n",
        "        new_node = Node(data)\n",
        "        if not self.head:\n",
        "            self.head = new_node\n",
        "            return\n",
        "        last_node = self.head\n",
        "        while last_node.next:\n",
        "            last_node = last_node.next\n",
        "        last_node.next = new_node\n",
        "\n",
        "    def display(self):\n",
        "        current = self.head\n",
        "        while current:\n",
        "            print(current.data, end=\" -> \")\n",
        "            current = current.next\n",
        "        print(\"None\")\n",
        "\n",
        "# Example Usage:\n",
        "llist = LinkedList()\n",
        "llist.insert_at_beginning(10)\n",
        "llist.insert_at_end(20)\n",
        "llist.insert_at_beginning(5)\n",
        "llist.insert_at_end(30)\n",
        "\n",
        "llist.display()"
      ],
      "metadata": {
        "colab": {
          "base_uri": "https://localhost:8080/"
        },
        "id": "tDDXtBfd9Ctx",
        "outputId": "5acb41d7-5c5c-4c62-e22a-04448ad51de6"
      },
      "execution_count": 8,
      "outputs": [
        {
          "output_type": "stream",
          "name": "stdout",
          "text": [
            "5 -> 10 -> 20 -> 30 -> None\n"
          ]
        }
      ]
    },
    {
      "cell_type": "markdown",
      "source": [
        "EXPLANATION:\n",
        "1. A `Node` class is defined to hold data and a reference (`next`) to the next node in the list.\n",
        "2. The `LinkedList` class manages the list, starting with an empty `head`.\n",
        "3. `insert_at_beginning(data)` creates a new node and places it at the start of the list.\n",
        "4. `insert_at_end(data)` adds a new node at the end by traversing to the last node.\n",
        "5. If the list is empty, `insert_at_end` makes the new node the head.\n",
        "6. `display()` traverses the list and prints each node’s data, ending with `\"None\"`.\n",
        "7. The example creates a list, adds nodes at the beginning and end, then displays the full list.\n"
      ],
      "metadata": {
        "id": "ptBPN6QY9IoE"
      }
    },
    {
      "cell_type": "markdown",
      "source": [
        "Task Description #4 – Binary Search Tree (BST)\n",
        "Task: Ask AI to generate a simple BST with insert() and\n",
        "inorder_traversal().\n"
      ],
      "metadata": {
        "id": "UA1cm_zD9dE3"
      }
    },
    {
      "cell_type": "markdown",
      "source": [
        "PROMPT:generate a python program with simple BST with insert() and inorder_traversal()"
      ],
      "metadata": {
        "id": "Tq8E3rh69kap"
      }
    },
    {
      "cell_type": "code",
      "source": [
        "class Node:\n",
        "    def __init__(self, key):\n",
        "        self.left = None\n",
        "        self.right = None\n",
        "        self.val = key\n",
        "\n",
        "class BST:\n",
        "    def __init__(self):\n",
        "        self.root = None\n",
        "\n",
        "    def insert(self, root, key):\n",
        "        if root is None:\n",
        "            return Node(key)\n",
        "        else:\n",
        "            if root.val < key:\n",
        "                root.right = self.insert(root.right, key)\n",
        "            else:\n",
        "                root.left = self.insert(root.left, key)\n",
        "        return root\n",
        "\n",
        "    def inorder_traversal(self, root):\n",
        "        if root:\n",
        "            self.inorder_traversal(root.left)\n",
        "            print(root.val, end=\" \")\n",
        "            self.inorder_traversal(root.right)\n",
        "\n",
        "# Example Usage:\n",
        "bst = BST()\n",
        "root = None\n",
        "root = bst.insert(root, 50)\n",
        "root = bst.insert(root, 30)\n",
        "root = bst.insert(root, 20)\n",
        "root = bst.insert(root, 40)\n",
        "root = bst.insert(root, 70)\n",
        "root = bst.insert(root, 60)\n",
        "root = bst.insert(root, 80)\n",
        "\n",
        "print(\"Inorder traversal of the BST:\")\n",
        "bst.inorder_traversal(root)"
      ],
      "metadata": {
        "colab": {
          "base_uri": "https://localhost:8080/"
        },
        "id": "cvcP6fpj9s7F",
        "outputId": "899c9209-e8ec-4138-c613-3c9d1de69084"
      },
      "execution_count": 9,
      "outputs": [
        {
          "output_type": "stream",
          "name": "stdout",
          "text": [
            "Inorder traversal of the BST:\n",
            "20 30 40 50 60 70 80 "
          ]
        }
      ]
    },
    {
      "cell_type": "markdown",
      "source": [
        "EXPLANATION:\n",
        "1. The `Node` class defines a tree node with `val`, `left`, and `right` attributes.\n",
        "2. The `BST` class manages the binary search tree with an initially empty `root`.\n",
        "3. The `insert()` method recursively places a new `key` in the correct position based on BST rules.\n",
        "4. If the current node is `None`, it creates a new `Node` with the key.\n",
        "5. If the key is less than the current node’s value, it’s inserted into the left subtree; otherwise, the right.\n",
        "6. `inorder_traversal()` recursively visits nodes in left-root-right order, printing values in sorted order.\n",
        "7. In the example, nodes are inserted into the BST in a specific order to build the tree.\n",
        "8. Finally, `inorder_traversal()` prints the BST elements in ascending order.\n"
      ],
      "metadata": {
        "id": "nNaxWgj698qr"
      }
    },
    {
      "cell_type": "code",
      "source": [],
      "metadata": {
        "id": "l4MsaTA9CzLO"
      },
      "execution_count": null,
      "outputs": []
    }
  ]
}