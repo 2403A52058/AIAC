{
  "nbformat": 4,
  "nbformat_minor": 0,
  "metadata": {
    "colab": {
      "provenance": [],
      "authorship_tag": "ABX9TyPNlTeixuPGWWOFnHvE1Aze",
      "include_colab_link": true
    },
    "kernelspec": {
      "name": "python3",
      "display_name": "Python 3"
    },
    "language_info": {
      "name": "python"
    }
  },
  "cells": [
    {
      "cell_type": "markdown",
      "metadata": {
        "id": "view-in-github",
        "colab_type": "text"
      },
      "source": [
        "<a href=\"https://colab.research.google.com/github/2403A52058/AIAC/blob/main/Copy_of_LAB_3ipynb.ipynb\" target=\"_parent\"><img src=\"https://colab.research.google.com/assets/colab-badge.svg\" alt=\"Open In Colab\"/></a>"
      ]
    },
    {
      "cell_type": "code",
      "execution_count": null,
      "metadata": {
        "id": "FPk7E6ydF77g"
      },
      "outputs": [],
      "source": []
    },
    {
      "cell_type": "markdown",
      "source": [
        "task 0:Try 3 different prompts to generate a factorial function.\n",
        "\n",
        "prompt:1)cerate a python function that generates a factorial\n",
        "\n",
        "       2)write a python function that takes a user input a nuber and gives the factorial of number\n",
        "\n",
        "       3) generate a python function that calculates the factorial given number"
      ],
      "metadata": {
        "id": "UtNxSfW0HojW"
      }
    },
    {
      "cell_type": "code",
      "source": [
        "def factorial(n):\n",
        "  \"\"\"Calculates the factorial of a non-negative integer.\"\"\"\n",
        "  if n == 0:\n",
        "    return 1\n",
        "  else:\n",
        "    return n * factorial(n-1)\n",
        "\n",
        "# Get input from the user\n",
        "num_str = input(\"Enter a non-negative integer: \")\n",
        "\n",
        "try:\n",
        "  num = int(num_str)\n",
        "  if num < 0:\n",
        "    print(\"Factorial is not defined for negative numbers.\")\n",
        "  else:\n",
        "    print(f\"The factorial of {num} is {factorial(num)}\")\n",
        "except ValueError:\n",
        "  print(\"Invalid input. Please enter an integer.\")"
      ],
      "metadata": {
        "colab": {
          "base_uri": "https://localhost:8080/"
        },
        "id": "nYG463ncIdYI",
        "outputId": "fae6cf99-b557-4cc4-de0e-b4f617dab828"
      },
      "execution_count": null,
      "outputs": [
        {
          "output_type": "stream",
          "name": "stdout",
          "text": [
            "The factorial of 5 is 120\n"
          ]
        }
      ]
    },
    {
      "cell_type": "code",
      "source": [
        "def factorial(n):\n",
        "  \"\"\"Calculates the factorial of a non-negative integer.\"\"\"\n",
        "  if n == 0:\n",
        "    return 1\n",
        "  else:\n",
        "    return n * factorial(n-1)\n",
        "\n",
        "# Get input from the user\n",
        "num_str = input(\"Enter a non-negative integer: \")\n",
        "\n",
        "try:\n",
        "  num = int(num_str)\n",
        "  if num < 0:\n",
        "    print(\"Factorial is not defined for negative numbers.\")\n",
        "  else:\n",
        "    print(f\"The factorial of {num} is {factorial(num)}\")\n",
        "except ValueError:\n",
        "  print(\"Invalid input. Please enter an integer.\")"
      ],
      "metadata": {
        "colab": {
          "base_uri": "https://localhost:8080/"
        },
        "id": "7WL3kaLSKVf5",
        "outputId": "f3612d77-fbf8-4e7f-dfc8-f9a6e0abd7d3"
      },
      "execution_count": null,
      "outputs": [
        {
          "output_type": "stream",
          "name": "stdout",
          "text": [
            "Enter a non-negative integer: 3\n",
            "The factorial of 3 is 6\n"
          ]
        }
      ]
    },
    {
      "cell_type": "code",
      "source": [
        "def factorial(n):\n",
        "  \"\"\"Calculates the factorial of a non-negative integer.\"\"\"\n",
        "  if n == 0:\n",
        "    return 1\n",
        "  else:\n",
        "    return n * factorial(n-1)\n",
        "\n",
        "# Example usage:\n",
        "num = 5\n",
        "print(f\"The factorial of {num} is {factorial(num)}\")"
      ],
      "metadata": {
        "id": "mygcavOJLT4h"
      },
      "execution_count": null,
      "outputs": []
    },
    {
      "cell_type": "markdown",
      "source": [
        "\n",
        " similarities:\n",
        "\n",
        "Both code snippets define and use the same factorial(n) function to calculate the factorial of a non-negative integer using recursion.\n",
        "Differences:\n",
        "\n",
        "Feature\tCode Snippet 1 (Fixed Input)\tCode Snippet 2 (User Input with Error Handling)\n",
        "Input Source\tUses a predefined integer variable (num = 5 in the examples)\tPrompts the user to enter a number using input()\n",
        "Flexibility\tLess flexible; always calculates the factorial of the same number\tMore flexible; allows the user to calculate the factorial of different numbers\n",
        "Error Handling\tNo explicit error handling for invalid input\tIncludes a try-except block to handle ValueError for non-integer input\n",
        "Negative Numbers\tNo explicit check for negative input\tChecks if the input is negative and provides an informative message\n",
        "Interactivity\tNon-interactive\tInteractive; requires user participation\n",
        "In essence, the first code snippet is a simple demonstration of the factorial function with a fixed value, while the second is designed for practical use, allowing users to input numbers and providing basic validation and error handling."
      ],
      "metadata": {
        "id": "ZMA_VEztMGXR"
      }
    },
    {
      "cell_type": "markdown",
      "source": [
        "task 01: Provide a clear example input-output prompt to generate a sorting function\n",
        "\n",
        "prompt:write a python function sort_list that makes a list of numbers as input and returns a new list with the numbers sorted in asscending order"
      ],
      "metadata": {
        "id": "KXQrBwhKLjCL"
      }
    },
    {
      "cell_type": "code",
      "source": [],
      "metadata": {
        "id": "_-n-PVD9PVCY"
      },
      "execution_count": null,
      "outputs": []
    },
    {
      "cell_type": "markdown",
      "source": [
        "output:Functional sorting code from AI"
      ],
      "metadata": {
        "id": "91FnOlFmQXBI"
      }
    },
    {
      "cell_type": "code",
      "source": [
        "def bubble_sort(numbers):\n",
        "\n",
        "  n = len(numbers)\n",
        "  # Create a copy to avoid modifying the original list\n",
        "  sorted_numbers = numbers[:]\n",
        "  for i in range(n):\n",
        "    # Last i elements are already in place\n",
        "    for j in range(0, n - i - 1):\n",
        "      # traverse the list from 0 to n-i-1\n",
        "      # Swap if the element found is greater than the next element\n",
        "      if sorted_numbers[j] > sorted_numbers[j + 1]:\n",
        "        sorted_numbers[j], sorted_numbers[j + 1] = sorted_numbers[j + 1], sorted_numbers[j]\n",
        "  return sorted_numbers\n",
        "\n",
        "# Example usage:\n",
        "my_list = [64, 34, 25, 12, 22, 11, 90]\n",
        "sorted_my_list = bubble_sort(my_list)\n",
        "print(f\"Original list: {my_list}\")\n",
        "print(f\"Sorted list: {sorted_my_list}\")"
      ],
      "metadata": {
        "colab": {
          "base_uri": "https://localhost:8080/"
        },
        "id": "eFA68pIiP8e4",
        "outputId": "d621de08-b317-48ff-bddc-933324a35bb0"
      },
      "execution_count": null,
      "outputs": [
        {
          "output_type": "stream",
          "name": "stdout",
          "text": [
            "Original list: [64, 34, 25, 12, 22, 11, 90]\n",
            "Sorted list: [11, 12, 22, 25, 34, 64, 90]\n"
          ]
        }
      ]
    },
    {
      "cell_type": "markdown",
      "source": [
        "task 02:Start with the vague prompt “Generate python code to calculate power bill” and improve it step-by-step"
      ],
      "metadata": {
        "id": "1Ucfa71IREFX"
      }
    },
    {
      "cell_type": "code",
      "source": [
        "def calculate_power_bill(kwh_consumption, rate_per_kwh):\n",
        "  \"\"\"\n",
        "  Calculates a power bill based on kWh consumption and a fixed rate per kWh.\n",
        "\n",
        "  Args:\n",
        "    kwh_consumption: The total kilowatt-hours consumed.\n",
        "    rate_per_kwh: The cost per kilowatt-hour.\n",
        "\n",
        "  Returns:\n",
        "    The total power bill amount.\n",
        "  \"\"\"\n",
        "  return kwh_consumption * rate_per_kwh\n",
        "\n",
        "# Example usage:\n",
        "consumption = 150  # kWh\n",
        "rate = 0.12      # $ per kWh\n",
        "bill_amount = calculate_power_bill(consumption, rate)\n",
        "print(f\"For {consumption} kWh at a rate of ${rate} per kWh, the power bill is: ${bill_amount:.2f}\")"
      ],
      "metadata": {
        "id": "4NSruQ4JRMFs"
      },
      "execution_count": null,
      "outputs": []
    },
    {
      "cell_type": "markdown",
      "source": [
        "Acknowledge the vague prompt: Recognize the initial vague prompt \"Generate python code to calculate power bill\".\n",
        "\n",
        "Identify missing information: Determine what details are needed to make the prompt specific enough to generate functional code\n",
        "\n",
        "Refine the prompt - step 1: Create a slightly more specific prompt based on the identified missing information.\n",
        "\n",
        "\n",
        "Further refine the prompt - step 2: Based on the generated code or further consideration, refine the prompt even more to include additional details or constraints (e.g., tiered pricing, taxes, fees).\n",
        "\n",
        "Generate code: Generate code based on the more detailed prompt.\n",
        "Explain the code: Explain the generated code and how it addresses the refined prompt.\n",
        "\n",
        "Finish task: Summarize the process and the outcome, highlighting how prompt refinement improved the generated code.\n",
        "\n",
        "Reducing ambiguity: Less chance of the AI misinterpreting your request.\n",
        "Increasing relevance: The output is more likely to be exactly what you're looking for.\n",
        "Improving accuracy: Specific details help the AI generate correct and functional code."
      ],
      "metadata": {
        "id": "tSo04AFVRkZn"
      }
    },
    {
      "cell_type": "markdown",
      "source": [
        "task ; 03 Write structured comments to help AI generate two linked functions (e.g., login_user()\n",
        "and register_user())"
      ],
      "metadata": {
        "id": "qlEDzNQES4eJ"
      }
    },
    {
      "cell_type": "markdown",
      "source": [],
      "metadata": {
        "id": "6hvE47wgTYnD"
      }
    },
    {
      "cell_type": "code",
      "metadata": {
        "id": "e09cd52f"
      },
      "source": [
        "# Function 1: register_user\n",
        "# This function should handle the process of a new user registering on the platform.\n",
        "# It should take username and password as input.\n",
        "# It should check if the username already exists.\n",
        "# If the username is available, it should securely store the user's credentials (this is a placeholder, actual implementation would involve hashing and a database).\n",
        "# After successful registration, it should indicate success.\n",
        "\n",
        "# Function 2: login_user\n",
        "# This function should handle the process of an existing user logging in.\n",
        "# It should take username and password as input.\n",
        "# It should check if the username exists.\n",
        "# If the username exists, it should verify the provided password against the stored credentials (placeholder - would involve password verification).\n",
        "# If the credentials are valid, it should indicate successful login.\n",
        "# This function is linked to register_user as a user needs to register before they can log in.\n",
        "# Consider how a successful registration might lead to an automatic login or a prompt to log in.\n",
        "\n",
        "# Now, based on the comments above, generate the Python code for these two functions."
      ],
      "execution_count": null,
      "outputs": []
    },
    {
      "cell_type": "markdown",
      "source": [
        "Clearer Intent: Comments allow you to explicitly state the purpose of each function and any shared components or workflows.\n",
        "Identified Dependencies: By mentioning how login_user is linked to register_user, you guide the AI to understand the necessary flow and potential shared data structures (like where user credentials would be stored).\n",
        "Reusable Logic: While the AI generates the code, the clear description in comments about shared aspects (like checking for existing usernames or verifying passwords) can lead the AI to implement these parts in a consistent manner across the related functions, potentially using similar or shared internal logic.\n",
        "In the case of register_user and login_user, both functions would need to interact with a user data store. By describing this in the comments, you encourage the AI to consider this shared requirement and generate code that reflects this shared logic, even if the actual data storage is represented by a placeholder.\n",
        "\n",
        "Would you like me to generate the code for the register_user and login_user functions based on the structured comments we created"
      ],
      "metadata": {
        "id": "4OhiNjTCTGhP"
      }
    },
    {
      "cell_type": "code",
      "source": [],
      "metadata": {
        "id": "u4ToUwWTTSda"
      },
      "execution_count": null,
      "outputs": []
    },
    {
      "cell_type": "markdown",
      "source": [
        "task 04:Analyzing Prompt Specificity: Improving Temperature Conversion Function with Clear Instructions"
      ],
      "metadata": {
        "id": "Kl0ImciJTmDD"
      }
    },
    {
      "cell_type": "markdown",
      "source": [
        "Identify missing information: Determine what specific details are needed to make the prompt clear and actionable for generating the function (e.g., which units to convert, the formula, input/output format).\n",
        "Refine the prompt - step 1: Create a more specific prompt based on the identified missing information.\n",
        "Generate code - step 1: Generate code based on the first refined prompt.\n",
        "Further refine the prompt - step 2: Refine the prompt further to include more details or handle specific cases (e.g., error handling for invalid input).\n",
        "\n",
        "Generate code - step 2: Generate code based on the second refined prompt.\n",
        "Compare and explain: Compare the code generated from the vague and refined prompts, explaining how the increased specificity led to a more complete and useful function.\n",
        "Finish task: Summarize the findings on prompt specificity and its impact on AI code generation."
      ],
      "metadata": {
        "id": "pBQ8K5_nTznP"
      }
    },
    {
      "cell_type": "code",
      "source": [],
      "metadata": {
        "id": "L4hZQbswTwY7"
      },
      "execution_count": null,
      "outputs": []
    },
    {
      "cell_type": "markdown",
      "source": [
        "When you provide a clearer, more specific prompt, you are essentially giving the AI more constraints and information to work with. This allows the AI to generate code that is:\n",
        "\n",
        "More accurate: It better reflects the specific requirements.\n",
        "More complete: It's more likely to include necessary details like error handling or specific logic.\n",
        "More aligned with intent: The code will do what you actually wanted it to do.\n",
        "Essentially, clearer prompts lead to code that is more functional, robust, and closer to a production-ready state – which we can consider higher quality in this context.\n",
        "\n",
        "We can observe this difference in code quality as we go through the steps of refining the prompt for the temperature conversion function, as outlined in the plan we just created. We'll start with a vague prompt, see the resulting code, and then refine the prompt to get more specific and potentially higher-quality code.\n",
        "\n"
      ],
      "metadata": {
        "id": "uUt6AgLbUMpn"
      }
    },
    {
      "cell_type": "code",
      "source": [],
      "metadata": {
        "id": "GwP6LtUPUNuv"
      },
      "execution_count": null,
      "outputs": []
    }
  ]
}