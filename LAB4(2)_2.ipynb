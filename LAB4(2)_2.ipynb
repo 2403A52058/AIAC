{
  "nbformat": 4,
  "nbformat_minor": 0,
  "metadata": {
    "colab": {
      "provenance": [],
      "authorship_tag": "ABX9TyPENFaUGzfQBUnBHYkWpQwO",
      "include_colab_link": true
    },
    "kernelspec": {
      "name": "python3",
      "display_name": "Python 3"
    },
    "language_info": {
      "name": "python"
    }
  },
  "cells": [
    {
      "cell_type": "markdown",
      "metadata": {
        "id": "view-in-github",
        "colab_type": "text"
      },
      "source": [
        "<a href=\"https://colab.research.google.com/github/2403A52058/AIAC/blob/main/LAB4(2)_2.ipynb\" target=\"_parent\"><img src=\"https://colab.research.google.com/assets/colab-badge.svg\" alt=\"Open In Colab\"/></a>"
      ]
    },
    {
      "cell_type": "markdown",
      "source": [
        "task 01:Use Gemini in Colab to write a function that filters out all negative numbers from a given list.\n"
      ],
      "metadata": {
        "id": "tdOdJdHCe_Ab"
      }
    },
    {
      "cell_type": "code",
      "source": [
        "# Import the Python SDK\n",
        "import google.generativeai as genai\n",
        "# Used to securely store your API key\n",
        "from google.colab import userdata\n",
        "\n",
        "GOOGLE_API_KEY=userdata.get('GOOGLE_API_KEY')\n",
        "genai.configure(api_key=GOOGLE_API_KEY)\n",
        "\n",
        "# Initialize the Gemini API\n",
        "gemini_model = genai.GenerativeModel('gemini-2.5-flash-preview-04-17')\n",
        "\n",
        "prompt = \"Write a Python function called `filter_negative_numbers` that takes a list of numbers as input and returns a new list containing only the non-negative numbers from the input list.\"\n",
        "\n",
        "response = gemini_model.generate_content(prompt)\n",
        "\n",
        "# Extract and execute the generated code\n",
        "generated_code = response.text.split(\"```python\")[1].split(\"```\")[0].strip()\n",
        "exec(generated_code)\n",
        "\n",
        "# Test the function\n",
        "test_list = [1, -2, 3, -4, 5, 0, -10]\n",
        "filtered_list = filter_negative_numbers(test_list)\n",
        "print(f\"Original list: {test_list}\")\n",
        "print(f\"Filtered list: {filtered_list}\")"
      ],
      "metadata": {
        "id": "KGJJxeC5fIOq"
      },
      "execution_count": null,
      "outputs": []
    },
    {
      "cell_type": "markdown",
      "source": [
        "task 02:Ask Gemini to generate code that reads a text file and counts the frequency of each word. Then ask it to explain the code.\n"
      ],
      "metadata": {
        "id": "lbEhhR36hlZ-"
      }
    },
    {
      "cell_type": "code",
      "source": [
        "# Import the Python SDK\n",
        "import google.generativeai as genai\n",
        "# Used to securely store your API key\n",
        "from google.colab import userdata\n",
        "\n",
        "GOOGLE_API_KEY=userdata.get('GOOGLE_API_KEY')\n",
        "genai.configure(api_key=GOOGLE_API_KEY)\n",
        "\n",
        "# Initialize the Gemini API\n",
        "gemini_model = genai.GenerativeModel('gemini-2.5-flash-preview-04-17')\n",
        "\n",
        "prompt = \"Write Python code that reads a text file named 'sample.txt' and counts the frequency of each word, ignoring case and punctuation. Store the results in a dictionary and print the word frequencies.\"\n",
        "\n",
        "response = gemini_model.generate_content(prompt)\n",
        "\n",
        "# Extract and execute the generated code\n",
        "generated_code = response.text.split(\"```python\")[1].split(\"```\")[0].strip()\n",
        "\n",
        "# Before executing, let's create a dummy 'sample.txt' file for demonstration\n",
        "with open('sample.txt', 'w') as f:\n",
        "    f.write(\"This is a sample text file. This file is for demonstration purposes.\")\n",
        "\n",
        "print(\"Generated Code:\")\n",
        "print(generated_code)\n",
        "\n",
        "# Execute the generated code\n",
        "exec(generated_code)"
      ],
      "metadata": {
        "id": "YBUehcA3hzFg"
      },
      "execution_count": null,
      "outputs": []
    },
    {
      "cell_type": "markdown",
      "source": [
        "task 03:Use Cursor AI to generate a Python class called Book with attributes title, author, and a method summary() that prints the details.\n"
      ],
      "metadata": {
        "id": "OYy885ykh6z6"
      }
    },
    {
      "cell_type": "code",
      "source": [
        "class Book:\n",
        "    \"\"\"Represents a book with a title and author.\"\"\"\n",
        "\n",
        "    def __init__(self, title, author):\n",
        "        \"\"\"Initializes a new Book instance.\"\"\"\n",
        "        self.title = title\n",
        "        self.author = author\n",
        "\n",
        "    def summary(self):\n",
        "        \"\"\"Prints the details of the book.\"\"\"\n",
        "        print(f\"Title: {self.title}\")\n",
        "        print(f\"Author: {self.author}\")\n",
        "\n",
        "# Example usage:\n",
        "# my_book = Book(\"The Hitchhiker's Guide to the Galaxy\", \"Douglas Adams\")\n",
        "# my_book.summary()"
      ],
      "metadata": {
        "id": "BSAhWTByiSeD"
      },
      "execution_count": null,
      "outputs": []
    },
    {
      "cell_type": "markdown",
      "source": [
        "task 04:Ask Gemini to write a program that checks whether a number is an Armstrong number, and then modify it using Cursor AI to improve performance or structure"
      ],
      "metadata": {
        "id": "ag3gjZPNiW97"
      }
    },
    {
      "cell_type": "code",
      "source": [
        "# Import the Python SDK\n",
        "import google.generativeai as genai\n",
        "# Used to securely store your API key\n",
        "from google.colab import userdata\n",
        "\n",
        "GOOGLE_API_KEY=userdata.get('GOOGLE_API_KEY')\n",
        "genai.configure(api_key=GOOGLE_API_KEY)\n",
        "\n",
        "# Initialize the Gemini API\n",
        "gemini_model = genai.GenerativeModel('gemini-2.5-flash-preview-04-17')\n",
        "\n",
        "prompt = \"Write a Python function called `is_armstrong_number` that takes an integer as input and returns True if it is an Armstrong number, and False otherwise.\"\n",
        "\n",
        "response = gemini_model.generate_content(prompt)\n",
        "\n",
        "# Extract and print the generated code\n",
        "generated_code = response.text.split(\"```python\")[1].split(\"```\")[0].strip()\n",
        "\n",
        "print(\"Generated Code:\")\n",
        "print(generated_code)\n",
        "\n",
        "# You can then copy and paste the generated code into a new cell to execute it.\n",
        "# Example usage (after executing the generated code):\n",
        "# print(is_armstrong_number(153)) # Output: True\n",
        "# print(is_armstrong_number(123)) # Output: False"
      ],
      "metadata": {
        "id": "yt3-kTHniqYz"
      },
      "execution_count": null,
      "outputs": []
    },
    {
      "cell_type": "markdown",
      "source": [
        "task 05:Use both Gemini and Cursor AI to generate code for sorting a list of dictionaries by a specific key (e.g., age).\n"
      ],
      "metadata": {
        "id": "dN-FhE8plXUk"
      }
    },
    {
      "cell_type": "code",
      "source": [
        "# Import the Python SDK\n",
        "import google.generativeai as genai\n",
        "# Used to securely store your API key\n",
        "from google.colab import userdata\n",
        "\n",
        "GOOGLE_API_KEY=userdata.get('GOOGLE_API_KEY')\n",
        "genai.configure(api_key=GOOGLE_API_KEY)\n",
        "\n",
        "# Initialize the Gemini API\n",
        "gemini_model = genai.GenerativeModel('gemini-2.5-flash-preview-04-17')\n",
        "\n",
        "prompt = \"Write Python code to sort a list of dictionaries by a specific key, for example, 'age'. Provide an example list of dictionaries and demonstrate how to sort it.\"\n",
        "\n",
        "response = gemini_model.generate_content(prompt)\n",
        "\n",
        "# Extract and print the generated code\n",
        "generated_code = response.text.split(\"```python\")[1].split(\"```\")[0].strip()\n",
        "\n",
        "print(\"Generated Code:\")\n",
        "print(generated_code)\n",
        "\n",
        "# To execute the code, you would typically copy and paste the generated_code\n",
        "# into a new cell and run it.\n",
        "# Example of how the generated code might look and how to run it:\n",
        "\n",
        "# data = [\n",
        "#     {'name': 'Alice', 'age': 30},\n",
        "#     {'name': 'Bob', 'age': 25},\n",
        "#     {'name': 'Charlie', 'age': 35}\n",
        "# ]\n",
        "#\n",
        "# sorted_data = sorted(data, key=lambda x: x['age'])\n",
        "#\n",
        "# print(\"Sorted data:\")\n",
        "# print(sorted_data)"
      ],
      "metadata": {
        "id": "tYbUb4l1li2w"
      },
      "execution_count": null,
      "outputs": []
    }
  ]
}