{
  "nbformat": 4,
  "nbformat_minor": 0,
  "metadata": {
    "colab": {
      "provenance": [],
      "authorship_tag": "ABX9TyMWUXrMO4eF4lzR6kympKRs",
      "include_colab_link": true
    },
    "kernelspec": {
      "name": "python3",
      "display_name": "Python 3"
    },
    "language_info": {
      "name": "python"
    }
  },
  "cells": [
    {
      "cell_type": "markdown",
      "metadata": {
        "id": "view-in-github",
        "colab_type": "text"
      },
      "source": [
        "<a href=\"https://colab.research.google.com/github/2403A52058/AIAC/blob/main/LAB8_2.ipynb\" target=\"_parent\"><img src=\"https://colab.research.google.com/assets/colab-badge.svg\" alt=\"Open In Colab\"/></a>"
      ]
    },
    {
      "cell_type": "markdown",
      "source": [
        "Task Description#1\n",
        "Use AI to generate test cases for a function is_prime(n) and then implement the\n",
        "function.\n",
        "\n",
        "\n",
        "PROMPT:generate test cases for a function is_prime(n) and then implement the Small prime numbers: Test with small prime numbers like 2, 3, 5, 7\n",
        " Large prime numbers: Test with large prime numbers to verify the performance. Small non-prime numbers: Test with small non-prime numbers like 1, 4, 6, 8,  Large non-prime numbers: Test with large non-prime numbers such as 100, 150."
      ],
      "metadata": {
        "id": "szwGxQonkEmQ"
      }
    },
    {
      "cell_type": "code",
      "source": [
        "def is_prime(n):\n",
        "    \"\"\"\n",
        "    Checks if a number is prime.\n",
        "\n",
        "    Args:\n",
        "        n: The number to check.\n",
        "\n",
        "    Returns:\n",
        "        True if the number is prime, False otherwise.\n",
        "    \"\"\"\n",
        "    if n < 2:\n",
        "        return False\n",
        "    for i in range(2, int(n**0.5) + 1):\n",
        "        if n % i == 0:\n",
        "            return False\n",
        "    return True\n",
        "\n",
        "# Test cases based on requirements\n",
        "test_cases = [\n",
        "    (2, True),   # Small prime\n",
        "    (3, True),   # Small prime\n",
        "    (5, True),   # Small prime\n",
        "    (7, True),   # Small prime\n",
        "    (999983, True), # Large prime (example)\n",
        "    (1000003, True), # Large prime (example)\n",
        "    (1, False),  # Small non-prime (edge case)\n",
        "    (4, False),  # Small non-prime\n",
        "    (6, False),  # Small non-prime\n",
        "    (8, False),  # Small non-prime\n",
        "    (100, False), # Large non-prime\n",
        "    (150, False), # Large non-prime\n",
        "]\n",
        "\n",
        "# Run test cases\n",
        "for number, expected in test_cases:\n",
        "    result = is_prime(number)\n",
        "    assert result == expected, f\"Input: {number}, Expected: {expected}, Got: {result}\"\n",
        "    print(f\"Test case {number} passed.\")"
      ],
      "metadata": {
        "colab": {
          "base_uri": "https://localhost:8080/"
        },
        "id": "0_x3ORtmsWJY",
        "outputId": "0b79d416-80fa-472f-8449-2ea6af3f99d4"
      },
      "execution_count": 10,
      "outputs": [
        {
          "output_type": "stream",
          "name": "stdout",
          "text": [
            "Test case 2 passed.\n",
            "Test case 3 passed.\n",
            "Test case 5 passed.\n",
            "Test case 7 passed.\n",
            "Test case 999983 passed.\n",
            "Test case 1000003 passed.\n",
            "Test case 1 passed.\n",
            "Test case 4 passed.\n",
            "Test case 6 passed.\n",
            "Test case 8 passed.\n",
            "Test case 100 passed.\n",
            "Test case 150 passed.\n"
          ]
        }
      ]
    },
    {
      "cell_type": "markdown",
      "source": [
        "EXPLANATION: The code defines a function is_prime(n) to check if a number is prime. It returns False for numbers less than 2. It efficiently checks for divisors from 2 up to the square root of n. If any number divides n evenly, it's not prime, and the function returns False. If no divisors are found in the loop, the number is prime, and it returns True. A list of diverse test cases is included to validate the function. These test cases are run, asserting the expected outcomes. Finally, the code prompts the user for input to check if a number they enter is prime.\n",
        "\n"
      ],
      "metadata": {
        "id": "laX-46wrqfgp"
      }
    },
    {
      "cell_type": "markdown",
      "source": [
        "Task Description#2 (Loops)\n",
        "\n",
        "• Ask AI to generate test cases for celsius_to_fahrenheit(c) and fahrenheit_to_celsius(f).\n",
        "Requirements\n",
        "• Validate known pairs: 0°C = 32°F, 100°C = 212°F.\n",
        "• Include decimals and invalid inputs like strings or None\n",
        "\n",
        "PROMPT:generate a python function that to convert celsius to fahrenheit and faherenheit to celsius and give test cases like decimals,string,none value\n"
      ],
      "metadata": {
        "id": "O5CLedKuq5YY"
      }
    },
    {
      "cell_type": "code",
      "source": [
        "def celsius_to_fahrenheit(celsius):\n",
        "    \"\"\"Converts Celsius to Fahrenheit.\"\"\"\n",
        "    if not isinstance(celsius, (int, float)):\n",
        "        return \"Invalid input: Please provide a number.\"\n",
        "    return (celsius * 9/5) + 32\n",
        "\n",
        "def fahrenheit_to_celsius(fahrenheit):\n",
        "    \"\"\"Converts Fahrenheit to Celsius.\"\"\"\n",
        "    if not isinstance(fahrenheit, (int, float)):\n",
        "        return \"Invalid input: Please provide a number.\"\n",
        "    return (fahrenheit - 32) * 5/9\n",
        "\n",
        "# Test cases\n",
        "test_cases = [\n",
        "    (0, 32, \"C to F\"),    # Known pair\n",
        "    (100, 212, \"C to F\"),  # Known pair\n",
        "    (25.5, 77.9, \"C to F\"), # Decimal\n",
        "    (-10, 14, \"C to F\"),   # Negative\n",
        "    (\"abc\", \"Invalid input: Please provide a number.\", \"C to F - Invalid\"), # String input\n",
        "    (None, \"Invalid input: Please provide a number.\", \"C to F - Invalid\"), # None input\n",
        "\n",
        "    (32, 0, \"F to C\"),    # Known pair\n",
        "    (212, 100, \"F to C\"),  # Known pair\n",
        "    (77.9, 25.5, \"F to C\"), # Decimal\n",
        "    (14, -10, \"F to C\"),   # Negative\n",
        "    (\"xyz\", \"Invalid input: Please provide a number.\", \"F to C - Invalid\"), # String input\n",
        "    (None, \"Invalid input: Please provide a number.\", \"F to C - Invalid\"), # None input\n",
        "]\n",
        "\n",
        "# Run test cases\n",
        "for input_val, expected_output, test_type in test_cases:\n",
        "    if \"C to F\" in test_type:\n",
        "        result = celsius_to_fahrenheit(input_val)\n",
        "        assert result == expected_output, f\"Test Failed ({test_type}): Input: {input_val}, Expected: {expected_output}, Got: {result}\"\n",
        "        print(f\"Test Passed ({test_type}): Input: {input_val}\")\n",
        "    elif \"F to C\" in test_type:\n",
        "        # For float comparisons, consider a tolerance\n",
        "        result = fahrenheit_to_celsius(input_val)\n",
        "        if isinstance(result, float) and isinstance(expected_output, float):\n",
        "             assert abs(result - expected_output) < 1e-9, f\"Test Failed ({test_type}): Input: {input_val}, Expected: {expected_output}, Got: {result}\"\n",
        "        else:\n",
        "            assert result == expected_output, f\"Test Failed ({test_type}): Input: {input_val}, Expected: {expected_output}, Got: {result}\"\n",
        "        print(f\"Test Passed ({test_type}): Input: {input_val}\")"
      ],
      "metadata": {
        "colab": {
          "base_uri": "https://localhost:8080/"
        },
        "id": "P6cFWGfJucl7",
        "outputId": "bd3e7b51-543e-475a-fa2d-fd74280b90e0"
      },
      "execution_count": 13,
      "outputs": [
        {
          "output_type": "stream",
          "name": "stdout",
          "text": [
            "Test Passed (C to F): Input: 0\n",
            "Test Passed (C to F): Input: 100\n",
            "Test Passed (C to F): Input: 25.5\n",
            "Test Passed (C to F): Input: -10\n",
            "Test Passed (C to F - Invalid): Input: abc\n",
            "Test Passed (C to F - Invalid): Input: None\n",
            "Test Passed (F to C): Input: 32\n",
            "Test Passed (F to C): Input: 212\n",
            "Test Passed (F to C): Input: 77.9\n",
            "Test Passed (F to C): Input: 14\n",
            "Test Passed (F to C - Invalid): Input: xyz\n",
            "Test Passed (F to C - Invalid): Input: None\n"
          ]
        }
      ]
    },
    {
      "cell_type": "markdown",
      "source": [
        "EXPLANATION:\n",
        "\n",
        "1. Two conversion functions are defined: `celsius_to_fahrenheit()` and `fahrenheit_to_celsius()`, each checking if the input is a valid number before performing the conversion.\n",
        "2. Input validation is done using `isinstance()` to ensure inputs are either `int` or `float`; otherwise, an error message is returned.\n",
        "3. Conversions use standard formulas: °F = (°C × 9/5) + 32, and °C = (°F − 32) × 5/9.\n",
        "4. A list of test cases is created, each with an input value, expected output, and a label indicating the test type.\n",
        "\n",
        "5. A `for` loop iterates through the test cases, selecting the correct function based on the test type.\n",
        "6. For floating-point results, a tolerance (`1e-9`) is used to handle minor precision errors during comparison.\n",
        "7. Each test prints **\"Test Passed\"** if successful, or raises an `AssertionError` with a detailed message if it fails.\n"
      ],
      "metadata": {
        "id": "jHtifWcHupH8"
      }
    },
    {
      "cell_type": "markdown",
      "source": [
        "Task Description#3\n",
        "\n",
        "Use AI to write test cases for a function count_words(text) that returns the number of words in a sentence.\n",
        "\n",
        "Requirement:\n",
        "Handle normal text, multiple spaces, punctuation, and empty strings\n",
        "\n",
        "PROMPT:generate test cases for a function count_words(text) that returns the number of words in a sentence.it should handle normal texts ,multiple spaces and empty strings\n"
      ],
      "metadata": {
        "id": "5kThHahrvXoz"
      }
    },
    {
      "cell_type": "code",
      "source": [
        "def count_words(text):\n",
        "    \"\"\"\n",
        "    Counts the number of words in a sentence.\n",
        "\n",
        "    Args:\n",
        "        text: The input string.\n",
        "\n",
        "    Returns:\n",
        "        The number of words in the string.\n",
        "    \"\"\"\n",
        "    if not text or text.isspace():\n",
        "        return 0\n",
        "    words = text.split()\n",
        "    return len(words)\n",
        "\n",
        "# Test cases\n",
        "test_cases = [\n",
        "    (\"Hello world\", 2),  # Normal text\n",
        "    (\"  This has   multiple   spaces \", 4), # Multiple spaces\n",
        "    (\"\", 0),  # Empty string\n",
        "    (\"   \", 0), # String with only spaces\n",
        "    (\"SingleWord\", 1), # Single word\n",
        "    (\"  Leading and trailing spaces  \", 4) # Leading and trailing spaces\n",
        "]\n",
        "\n",
        "# Run test cases\n",
        "for text, expected in test_cases:\n",
        "    result = count_words(text)\n",
        "    assert result == expected, f\"Input: '{text}', Expected: {expected}, Got: {result}\"\n",
        "    print(f\"Test case passed for input: '{text}'\")"
      ],
      "metadata": {
        "colab": {
          "base_uri": "https://localhost:8080/"
        },
        "id": "_QEOmZkOxvgY",
        "outputId": "36eb6acb-fd07-4f0b-879b-d5f7637c5307"
      },
      "execution_count": 16,
      "outputs": [
        {
          "output_type": "stream",
          "name": "stdout",
          "text": [
            "Test case passed for input: 'Hello world'\n",
            "Test case passed for input: '  This has   multiple   spaces '\n",
            "Test case passed for input: ''\n",
            "Test case passed for input: '   '\n",
            "Test case passed for input: 'SingleWord'\n",
            "Test case passed for input: '  Leading and trailing spaces  '\n"
          ]
        }
      ]
    },
    {
      "cell_type": "markdown",
      "source": [
        "EXPLANATION:\n",
        "\n",
        "1. The function `count_words(text)` is defined to count the number of words in a given string.\n",
        "2. It first checks if the input is empty or contains only spaces using `not text` and `text.isspace()`; if so, it returns `0`.\n",
        "3. Otherwise, it splits the string into words using `split()`, which handles multiple spaces automatically.\n",
        "4. The length of the resulting list of words is returned as the word count.\n",
        "5. A list of test cases is created with various input strings and their expected word counts.\n",
        "6. A loop runs each test case, calling `count_words()` and comparing the result to the expected value using `assert`.\n",
        "7. If the result matches the expected value, a success message is printed; otherwise, an assertion error is raised.\n"
      ],
      "metadata": {
        "id": "QLYO7b_1x23P"
      }
    },
    {
      "cell_type": "markdown",
      "source": [
        "Task Description#4\n",
        "• Generate test cases for a BankAccount class with:\n",
        "Methods:\n",
        "deposit(amount)\n",
        "withdraw(amount)\n",
        "check_balance()\n",
        "\n",
        "PROMPT:\n",
        "generate test cases for a BankAccount class with methods deposit(amount) withdraw(amount) check_balance() ,it should raise an error if there are negative deposits and widrawals ,and it cannot withdraw more than balance"
      ],
      "metadata": {
        "id": "5fojeeaCyckQ"
      }
    },
    {
      "cell_type": "code",
      "source": [
        "class BankAccount:\n",
        "    \"\"\"\n",
        "    A simple bank account class.\n",
        "    \"\"\"\n",
        "    def __init__(self, initial_balance=0):\n",
        "        if initial_balance < 0:\n",
        "            raise ValueError(\"Initial balance cannot be negative.\")\n",
        "        self.balance = initial_balance\n",
        "\n",
        "    def deposit(self, amount):\n",
        "        \"\"\"Deposits money into the account.\"\"\"\n",
        "        if amount < 0:\n",
        "            raise ValueError(\"Deposit amount cannot be negative.\")\n",
        "        self.balance += amount\n",
        "        print(f\"Deposited: {amount}. New balance: {self.balance}\")\n",
        "\n",
        "    def withdraw(self, amount):\n",
        "        \"\"\"Withdraws money from the account.\"\"\"\n",
        "        if amount < 0:\n",
        "            raise ValueError(\"Withdrawal amount cannot be negative.\")\n",
        "        if amount > self.balance:\n",
        "            raise ValueError(\"Insufficient funds.\")\n",
        "        self.balance -= amount\n",
        "        print(f\"Withdrew: {amount}. New balance: {self.balance}\")\n",
        "\n",
        "    def check_balance(self):\n",
        "        \"\"\"Returns the current balance.\"\"\"\n",
        "        return self.balance\n",
        "\n",
        "# Test cases\n",
        "\n",
        "# Test case 1: Initializing with a negative balance (should raise error)\n",
        "try:\n",
        "    account1 = BankAccount(-100)\n",
        "except ValueError as e:\n",
        "    print(f\"Test case 1 passed: {e}\")\n",
        "\n",
        "# Test case 2: Initializing with a valid balance and performing deposit\n",
        "account2 = BankAccount(100)\n",
        "print(f\"\\nTest case 2: Initial balance: {account2.check_balance()}\")\n",
        "account2.deposit(50)\n",
        "assert account2.check_balance() == 150, f\"Test case 2 failed: Expected 150, Got {account2.check_balance()}\"\n",
        "print(f\"Test case 2 passed: New balance: {account2.check_balance()}\")\n",
        "\n",
        "# Test case 3: Performing a valid withdrawal\n",
        "account3 = BankAccount(200)\n",
        "print(f\"\\nTest case 3: Initial balance: {account3.check_balance()}\")\n",
        "account3.withdraw(50)\n",
        "assert account3.check_balance() == 150, f\"Test case 3 failed: Expected 150, Got {account3.check_balance()}\"\n",
        "print(f\"Test case 3 passed: New balance: {account3.check_balance()}\")\n",
        "\n",
        "# Test case 4: Attempting to deposit a negative amount (should raise error)\n",
        "account4 = BankAccount(100)\n",
        "print(f\"\\nTest case 4: Initial balance: {account4.check_balance()}\")\n",
        "try:\n",
        "    account4.deposit(-50)\n",
        "except ValueError as e:\n",
        "    print(f\"Test case 4 passed: {e}\")\n",
        "assert account4.check_balance() == 100, f\"Test case 4 failed: Balance changed unexpectedly: {account4.check_balance()}\"\n",
        "\n",
        "\n",
        "# Test case 5: Attempting to withdraw a negative amount (should raise error)\n",
        "account5 = BankAccount(100)\n",
        "print(f\"\\nTest case 5: Initial balance: {account5.check_balance()}\")\n",
        "try:\n",
        "    account5.withdraw(-50)\n",
        "except ValueError as e:\n",
        "    print(f\"Test case 5 passed: {e}\")\n",
        "assert account5.check_balance() == 100, f\"Test case 5 failed: Balance changed unexpectedly: {account5.check_balance()}\"\n",
        "\n",
        "\n",
        "# Test case 6: Attempting to withdraw more than the balance (should raise error)\n",
        "account6 = BankAccount(100)\n",
        "print(f\"\\nTest case 6: Initial balance: {account6.check_balance()}\")\n",
        "try:\n",
        "    account6.withdraw(150)\n",
        "except ValueError as e:\n",
        "    print(f\"Test case 6 passed: {e}\")\n",
        "assert account6.check_balance() == 100, f\"Test case 6 failed: Balance changed unexpectedly: {account6.check_balance()}\"\n",
        "\n",
        "# Test case 7: Checking balance\n",
        "account7 = BankAccount(500)\n",
        "print(f\"\\nTest case 7: Initial balance: {account7.check_balance()}\")\n",
        "assert account7.check_balance() == 500, f\"Test case 7 failed: Expected 500, Got {account7.check_balance()}\"\n",
        "print(f\"Test case 7 passed: Balance: {account7.check_balance()}\")"
      ],
      "metadata": {
        "colab": {
          "base_uri": "https://localhost:8080/"
        },
        "id": "FoWHhJuzyTAl",
        "outputId": "e796dd5e-7ea0-46fe-9c14-cb2e8810c2a6"
      },
      "execution_count": 17,
      "outputs": [
        {
          "output_type": "stream",
          "name": "stdout",
          "text": [
            "Test case 1 passed: Initial balance cannot be negative.\n",
            "\n",
            "Test case 2: Initial balance: 100\n",
            "Deposited: 50. New balance: 150\n",
            "Test case 2 passed: New balance: 150\n",
            "\n",
            "Test case 3: Initial balance: 200\n",
            "Withdrew: 50. New balance: 150\n",
            "Test case 3 passed: New balance: 150\n",
            "\n",
            "Test case 4: Initial balance: 100\n",
            "Test case 4 passed: Deposit amount cannot be negative.\n",
            "\n",
            "Test case 5: Initial balance: 100\n",
            "Test case 5 passed: Withdrawal amount cannot be negative.\n",
            "\n",
            "Test case 6: Initial balance: 100\n",
            "Test case 6 passed: Insufficient funds.\n",
            "\n",
            "Test case 7: Initial balance: 500\n",
            "Test case 7 passed: Balance: 500\n"
          ]
        }
      ]
    },
    {
      "cell_type": "markdown",
      "source": [
        "EXPLANATION:\n",
        "\n",
        "1. The `BankAccount` class models a simple bank account with methods for deposit, withdrawal, and balance checking.\n",
        "2. The constructor (`__init__`) ensures the initial balance is not negative, raising a `ValueError` otherwise.\n",
        "3. The `deposit` method adds money to the account, rejecting negative amounts.\n",
        "4. The `withdraw` method subtracts money, raising errors for negative amounts or if funds are insufficient.\n",
        "5. The `check_balance` method returns the current account balance.\n",
        "6. Test case  verifies that initializing with a negative balance raises an error.\n",
        "7. Test cases 2–6 check deposits, withdrawals, and error handling for invalid operations like overdrawing or using negative values.\n",
        "8. Test case 7 confirms that the balance checking method returns the correct value after initialization.\n"
      ],
      "metadata": {
        "id": "CHVfga6Jy4bP"
      }
    },
    {
      "cell_type": "markdown",
      "source": [
        "Task Description#5\n",
        "Generate test cases for is_number_palindrome(num), which checks if an integer reads\n",
        "the same backward.\n",
        "Examples:\n",
        "121 → True\n",
        "123 → False\n",
        "0, negative numbers → handled gracefully\n",
        "\n",
        "prompt:\n",
        "generate test cases for function is_number_palindrome(num),which checks if an integer reads same backward ,example:121=True,123=False,0,negative numbers should be handled gracefully"
      ],
      "metadata": {
        "id": "743kQkbbzO4Q"
      }
    },
    {
      "cell_type": "code",
      "source": [
        "def is_number_palindrome(num):\n",
        "    \"\"\"\n",
        "    Checks if an integer reads the same backward.\n",
        "\n",
        "    Args:\n",
        "        num: The integer to check.\n",
        "\n",
        "    Returns:\n",
        "        True if the number is a palindrome, False otherwise.\n",
        "    \"\"\"\n",
        "    # Handle negative numbers gracefully (they are not palindromes in the typical sense)\n",
        "    if num < 0:\n",
        "        return False\n",
        "    # Handle 0 as a palindrome\n",
        "    if num == 0:\n",
        "        return True\n",
        "\n",
        "    # Convert the number to a string for easy reversal\n",
        "    num_str = str(num)\n",
        "    # Reverse the string\n",
        "    reversed_num_str = num_str[::-1]\n",
        "\n",
        "    # Check if the original string is equal to the reversed string\n",
        "    return num_str == reversed_num_str\n",
        "\n",
        "# Test cases\n",
        "test_cases = [\n",
        "    (121, True),   # Example palindrome\n",
        "    (123, False),  # Example non-palindrome\n",
        "    (0, True),     # Handle 0\n",
        "    (-121, False), # Handle negative number\n",
        "    (1, True),     # Single digit\n",
        "    (11, True),    # Two digits palindrome\n",
        "    (12, False),   # Two digits non-palindrome\n",
        "    (12321, True), # Larger palindrome\n",
        "    (12345, False),# Larger non-palindrome\n",
        "    (1001, True),  # Palindrome with zeros\n",
        "    (10, False)    # Non-palindrome with zero\n",
        "]\n",
        "\n",
        "# Run test cases\n",
        "for number, expected in test_cases:\n",
        "    result = is_number_palindrome(number)\n",
        "    assert result == expected, f\"Input: {number}, Expected: {expected}, Got: {result}\"\n",
        "    print(f\"Test case {number} passed.\")"
      ],
      "metadata": {
        "colab": {
          "base_uri": "https://localhost:8080/"
        },
        "id": "Dc0qDOO_zMvl",
        "outputId": "7fa0c506-d052-41c7-f321-c1fe153d5fbe"
      },
      "execution_count": 18,
      "outputs": [
        {
          "output_type": "stream",
          "name": "stdout",
          "text": [
            "Test case 121 passed.\n",
            "Test case 123 passed.\n",
            "Test case 0 passed.\n",
            "Test case -121 passed.\n",
            "Test case 1 passed.\n",
            "Test case 11 passed.\n",
            "Test case 12 passed.\n",
            "Test case 12321 passed.\n",
            "Test case 12345 passed.\n",
            "Test case 1001 passed.\n",
            "Test case 10 passed.\n"
          ]
        }
      ]
    },
    {
      "cell_type": "markdown",
      "source": [
        "EXPLANATION:\n",
        "\n",
        "1. The function `is_number_palindrome(num)` checks if an integer reads the same forwards and backwards.\n",
        "2. Negative numbers are immediately rejected as not palindromes.\n",
        "3. Zero is treated as a palindrome (since 0 reversed is still 0).\n",
        "4. The number is converted to a string to easily reverse it using slicing (`[::-1]`).\n",
        "5. The reversed string is compared to the original; if they match, the number is a palindrome.\n",
        "6. A list of test cases covers various scenarios including positive, negative, single-digit, multi-digit, and numbers with zeros.\n",
        "7. Each test case runs through the function and asserts the result matches the expected value, printing a success message if it passes.\n"
      ],
      "metadata": {
        "id": "3FZMudjtz4jC"
      }
    },
    {
      "cell_type": "code",
      "source": [],
      "metadata": {
        "id": "k19COgCxz9oI"
      },
      "execution_count": null,
      "outputs": []
    }
  ]
}