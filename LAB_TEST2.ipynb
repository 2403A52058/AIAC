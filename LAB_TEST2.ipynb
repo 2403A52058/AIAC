{
  "nbformat": 4,
  "nbformat_minor": 0,
  "metadata": {
    "colab": {
      "provenance": [],
      "authorship_tag": "ABX9TyOpmMw9PIu1qT6BXBTO0zDO",
      "include_colab_link": true
    },
    "kernelspec": {
      "name": "python3",
      "display_name": "Python 3"
    },
    "language_info": {
      "name": "python"
    }
  },
  "cells": [
    {
      "cell_type": "markdown",
      "metadata": {
        "id": "view-in-github",
        "colab_type": "text"
      },
      "source": [
        "<a href=\"https://colab.research.google.com/github/2403A52058/AIAC/blob/main/LAB_TEST2.ipynb\" target=\"_parent\"><img src=\"https://colab.research.google.com/assets/colab-badge.svg\" alt=\"Open In Colab\"/></a>"
      ]
    },
    {
      "cell_type": "markdown",
      "source": [
        "K.1 — [S11K1] Rotate NxN matrix 90° clockwise\n",
        "\n",
        "  PROMPT:Write a Python function to rotate an NxN matrix (list of lists) 90 degrees clockwise in-place. Ensure it works correctly for edge cases like 1x1 and 2x2 matrices. For example matrix = [ [1, 2, 3], [4, 5, 6], [7, 8, 9] ] the rotated is[ [7, 4, 1], [8, 5, 2], [9, 6, 3] ]"
      ],
      "metadata": {
        "id": "8TUh10fEp8oB"
      }
    },
    {
      "cell_type": "code",
      "source": [
        "def rotate_matrix(matrix):\n",
        "    n = len(matrix)\n",
        "    if n == 0 or len(matrix[0]) != n:\n",
        "        print(\"Matrix must be non-empty and square (NxN).\")\n",
        "        return\n",
        "\n",
        "    # Transpose\n",
        "    for i in range(n):\n",
        "        for j in range(i + 1, n):\n",
        "            matrix[i][j], matrix[j][i] = matrix[j][i], matrix[i][j]\n",
        "\n",
        "    # Reverse each row\n",
        "    for row in matrix:\n",
        "        row.reverse()\n",
        "\n",
        "# -------- Input Handling --------\n",
        "try:\n",
        "    n = int(input(\"Enter the size of the NxN matrix (n): \"))\n",
        "    if n <= 0:\n",
        "        print(\"Matrix size must be a positive integer.\")\n",
        "    else:\n",
        "        matrix = []\n",
        "        print(f\"Enter the matrix, one row at a time with {n} space-separated integers:\")\n",
        "        for i in range(n):\n",
        "            while True:\n",
        "                row = input(f\"Row {i + 1}: \").strip().split()\n",
        "                if len(row) != n:\n",
        "                    print(f\"Please enter exactly {n} integers.\")\n",
        "                else:\n",
        "                    matrix.append([int(x) for x in row])\n",
        "                    break\n",
        "\n",
        "        print(\"\\nOriginal matrix:\")\n",
        "        for row in matrix:\n",
        "            print(row)\n",
        "\n",
        "        rotate_matrix(matrix)\n",
        "\n",
        "        print(\"\\nRotated 90° clockwise:\")\n",
        "        for row in matrix:\n",
        "            print(row)\n",
        "\n",
        "except ValueError:\n",
        "    print(\"Invalid input. Please enter integers only.\")\n"
      ],
      "metadata": {
        "colab": {
          "base_uri": "https://localhost:8080/"
        },
        "id": "H9gQFvd4uUhW",
        "outputId": "cb538425-5780-4952-bf4b-9a2602cd1da9"
      },
      "execution_count": 16,
      "outputs": [
        {
          "output_type": "stream",
          "name": "stdout",
          "text": [
            "Enter the size of the NxN matrix (n): 3\n",
            "Enter the matrix, one row at a time with 3 space-separated integers:\n",
            "Row 1: 2 3 4 \n",
            "Row 2: 4 5 6\n",
            "Row 3: 7 8 9 \n",
            "\n",
            "Original matrix:\n",
            "[2, 3, 4]\n",
            "[4, 5, 6]\n",
            "[7, 8, 9]\n",
            "\n",
            "Rotated 90° clockwise:\n",
            "[7, 4, 2]\n",
            "[8, 5, 3]\n",
            "[9, 6, 4]\n"
          ]
        }
      ]
    },
    {
      "cell_type": "markdown",
      "source": [
        "EXPLANATION:\n",
        "\n",
        "Sure! Here's a concise 8-line explanation of your code:\n",
        "\n",
        "1. Function `rotate_matrix` rotates an NxN matrix 90° clockwise *in-place* by first transposing, then reversing each row.\n",
        "2. It checks if the matrix is non-empty and square before proceeding.\n",
        "3. Transposing swaps elements across the diagonal (i.e., `matrix[i][j]` with `matrix[j][i]`).\n",
        "4. Reversing rows after transposition completes the clockwise rotation.\n",
        "5. The `try` block starts by taking the matrix size `n` from the user.\n",
        "6. The user is prompted to input `n` rows, each with exactly `n` integers.\n",
        "7. The original matrix is printed, then passed to `rotate_matrix` for in-place rotation.\n",
        "8. The rotated matrix is displayed; invalid inputs are caught with a `ValueError` check.\n"
      ],
      "metadata": {
        "id": "75zjgmKWujED"
      }
    },
    {
      "cell_type": "markdown",
      "source": [
        "K.2 — [S11K2] Compute added/removed lines\n",
        "\n",
        "PROMPT: write a python code to get old=['a','b','c'], new=['b','c','d'] Sample Output added=['d'], removed=['a'] Acceptance Criteria: Stable ordering; correct diff"
      ],
      "metadata": {
        "id": "XcG8mh1L1St8"
      }
    },
    {
      "cell_type": "code",
      "source": [
        "def diff_lines(old, new):\n",
        "    added = [line for line in new if line not in old]\n",
        "    removed = [line for line in old if line not in new]\n",
        "    return added, removed\n",
        "\n",
        "# -------- Input Handling --------\n",
        "print(\"Enter the 'old' lines (one per line). Type DONE to finish:\")\n",
        "old = []\n",
        "while True:\n",
        "    line = input()\n",
        "    if line.strip().upper() == \"DONE\":\n",
        "        break\n",
        "    old.append(line)\n",
        "\n",
        "print(\"\\nEnter the 'new' lines (one per line). Type DONE to finish:\")\n",
        "new = []\n",
        "while True:\n",
        "    line = input()\n",
        "    if line.strip().upper() == \"DONE\":\n",
        "        break\n",
        "    new.append(line)\n",
        "\n",
        "# Compute the diff\n",
        "added, removed = diff_lines(old, new)\n",
        "\n",
        "# Output\n",
        "print(\"\\nadded =\", added)\n",
        "print(\"removed =\", removed)\n"
      ],
      "metadata": {
        "colab": {
          "base_uri": "https://localhost:8080/"
        },
        "id": "-yjYqKaWu-44",
        "outputId": "38bd9f83-cf75-42b3-be14-c1749e34bff9"
      },
      "execution_count": 20,
      "outputs": [
        {
          "output_type": "stream",
          "name": "stdout",
          "text": [
            "Enter the 'old' lines (one per line). Type DONE to finish:\n",
            "A B C\n",
            "DONE\n",
            "\n",
            "Enter the 'new' lines (one per line). Type DONE to finish:\n",
            "B C D\n",
            "DONE\n",
            "\n",
            "added = ['B C D']\n",
            "removed = ['A B C']\n"
          ]
        }
      ]
    },
    {
      "cell_type": "markdown",
      "source": [
        "EXPLANATION:\n",
        "Sure! Here's a 6-line explanation of the code:\n",
        "\n",
        "1. The `diff_lines` function compares two lists and returns lines added in `new` and removed from `old`, preserving order.\n",
        "2. User is prompted to enter the `old` list line by line, ending with `\"DONE\"`.\n",
        "3. Similarly, the `new` list is entered line by line, also ending with `\"DONE\"`.\n",
        "4. Both lists are built without modifying inputs, maintaining the order of appearance.\n",
        "5. The function filters lines present in one list but not the other using list comprehensions.\n",
        "6. Finally, it prints the `added` and `removed` lists as the result of the diff.\n"
      ],
      "metadata": {
        "id": "YV9B7u_Z1N0M"
      }
    }
  ]
}