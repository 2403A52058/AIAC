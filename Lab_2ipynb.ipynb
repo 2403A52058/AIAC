{
  "nbformat": 4,
  "nbformat_minor": 0,
  "metadata": {
    "colab": {
      "provenance": [],
      "authorship_tag": "ABX9TyOsVN4ES2lQz8M5Qb1QIEaA",
      "include_colab_link": true
    },
    "kernelspec": {
      "name": "python3",
      "display_name": "Python 3"
    },
    "language_info": {
      "name": "python"
    }
  },
  "cells": [
    {
      "cell_type": "markdown",
      "metadata": {
        "id": "view-in-github",
        "colab_type": "text"
      },
      "source": [
        "<a href=\"https://colab.research.google.com/github/2403A52058/AIAC/blob/main/Lab_2ipynb.ipynb\" target=\"_parent\"><img src=\"https://colab.research.google.com/assets/colab-badge.svg\" alt=\"Open In Colab\"/></a>"
      ]
    },
    {
      "cell_type": "code",
      "execution_count": null,
      "metadata": {
        "id": "UDexH6asr3AJ"
      },
      "outputs": [],
      "source": []
    },
    {
      "cell_type": "markdown",
      "source": [
        "task 0; build a python function to check the given number is prime or not\n",
        "\n",
        "\n",
        "prompt: write a python function that checks a given number is prime or not"
      ],
      "metadata": {
        "id": "gqq17tGBsQ9x"
      }
    },
    {
      "cell_type": "code",
      "source": [
        "def is_prime(number):\n",
        "    \"\"\"\n",
        "    Checks if a given number is prime.\n",
        "\n",
        "    Args:\n",
        "        number: An integer.\n",
        "\n",
        "    Returns:\n",
        "        True if the number is prime, False otherwise.\n",
        "    \"\"\"\n",
        "    if number <= 1:\n",
        "        return False\n",
        "    for i in range(2, int(number**0.5) + 1):\n",
        "        if number % i == 0:\n",
        "            return False\n",
        "    return True\n",
        "\n",
        "# Example usage:\n",
        "print(is_prime(11))\n",
        "print(is_prime(4))"
      ],
      "metadata": {
        "colab": {
          "base_uri": "https://localhost:8080/"
        },
        "id": "rP1XdgdKsk71",
        "outputId": "408af4a5-5a5f-4c2c-80bb-19442eaec7cf"
      },
      "execution_count": 2,
      "outputs": [
        {
          "output_type": "stream",
          "name": "stdout",
          "text": [
            "True\n",
            "False\n"
          ]
        }
      ]
    },
    {
      "cell_type": "markdown",
      "source": [
        "The first part is the core logic of the is_prime function:\n",
        "\n",
        "if number <= 1: return False: This checks if the input number is less than or equal to 1. By definition, numbers less than or equal to 1 are not considered prime, so the function immediately returns False.\n",
        "`for i in range(2, int(number0.5) + 1):**: This loop iterates through potential divisors starting from 2 up to the integer part of the square root ofnumber` (plus one to include the square root itself if it's an integer). This is an optimization because if a number has a divisor greater than its square root, it must also have a divisor smaller than its square root.\n",
        "if number % i == 0: return False: Inside the loop, this checks if number is divisible by the current value of i with no remainder. If it is, it means i is a divisor, and thus number is not prime. The function returns False immediately.\n",
        "return True: If the loop finishes without finding any divisors, it means the number is not divisible by any integer from 2 up to its square root, so it is prime, and the function returns True.\n",
        "The second part of the selected code shows example usage of the is_prime function:\n",
        "\n",
        "print(is_prime(11)): This calls the is_prime function with the number 11 and prints the returned value. Since 11 is a prime number, this will print True.\n",
        "print(is_prime(4)): This calls the is_prime function with the number 4 and prints the returned value. Since 4 is not a prime number (it's divisible by 2), this will print False.\n",
        "These examples demonstrate how to use the function and show the expected output for a prime and a non-prime number.\n",
        "\n"
      ],
      "metadata": {
        "id": "nBpSB9HFuY1m"
      }
    },
    {
      "cell_type": "markdown",
      "source": [
        "task1:Use Gemini in Colab to write a function that filters out all negative numbers from a\n",
        "given list.\n",
        "\n",
        "prompt: write a python function that takes a user input and filters the negative numbers in it"
      ],
      "metadata": {
        "id": "Nq06dm974qhz"
      }
    },
    {
      "cell_type": "code",
      "source": [
        "def filter_negative_numbers(input_list):\n",
        "    \"\"\"\n",
        "    Filters out negative numbers from a list.\n",
        "\n",
        "    Args:\n",
        "        input_list: A list of numbers.\n",
        "\n",
        "    Returns:\n",
        "        A new list containing only the non-negative numbers.\n",
        "    \"\"\"\n",
        "    return [number for number in input_list if number >= 0]\n",
        "\n",
        "# Get input from the user\n",
        "user_input = input(\"Enter a list of numbers separated by spaces: \")\n",
        "\n",
        "# Convert the input string to a list of numbers\n",
        "try:\n",
        "    numbers = [float(x) for x in user_input.split()]\n",
        "except ValueError:\n",
        "    print(\"Invalid input. Please enter numbers separated by spaces.\")\n",
        "    numbers = []\n",
        "\n",
        "# Filter the negative numbers\n",
        "filtered_numbers = filter_negative_numbers(numbers)\n",
        "\n",
        "# Print the result\n",
        "print(\"Original list:\", numbers)\n",
        "print(\"Filtered list (non-negative numbers):\", filtered_numbers)"
      ],
      "metadata": {
        "colab": {
          "base_uri": "https://localhost:8080/"
        },
        "id": "zy6LQPpv5Abt",
        "outputId": "a0cf9ad4-f34b-45e9-c1c3-d966d2d41dfa"
      },
      "execution_count": 3,
      "outputs": [
        {
          "output_type": "stream",
          "name": "stdout",
          "text": [
            "Enter a list of numbers separated by spaces: 1 -1 2 -1\n",
            "Original list: [1.0, -1.0, 2.0, -1.0]\n",
            "Filtered list (non-negative numbers): [1.0, 2.0]\n"
          ]
        }
      ]
    },
    {
      "cell_type": "markdown",
      "source": [
        "Step 1: Define the filter_negative_numbers function\n",
        "\n",
        "def filter_negative_numbers(input_list):\n",
        "    # ... function body ...\n",
        "This line defines a function named filter_negative_numbers that accepts one argument, input_list. This function is designed to take a list of numbers and return a new list with only the non-negative numbers.\n",
        "\n",
        "Step 2: Implement the filtering logic using a list comprehension\n",
        "\n",
        "    return [number for number in input_list if number >= 0]\n",
        "Inside the function, this line uses a list comprehension to create and return a new list. It iterates through each number in the input_list. The if number >= 0 condition acts as a filter, including only those numbers in the new list that are greater than or equal to 0.\n",
        "\n",
        "Step 3: Get input from the user\n",
        "\n",
        "user_input = input(\"Enter a list of numbers separated by spaces: \")\n",
        "This line prompts the user to enter a series of numbers separated by spaces using the input() function. The user's input is stored as a string in the user_input variable.\n",
        "\n",
        "Step 4: Handle potential errors during input conversion\n",
        "\n",
        "try:\n",
        "    # ... conversion code ...\n",
        "except ValueError:\n",
        "    # ... error handling code ...\n",
        "This try...except block is used to gracefully handle potential errors that might occur when converting the user's input string into a list of numbers.\n",
        "\n",
        "Step 5: Convert the input string to a list of numbers\n",
        "\n",
        "    numbers = [float(x) for x in user_input.split()]\n",
        "Inside the try block, user_input.split() splits the input string into a list of substrings based on spaces. The list comprehension then attempts to convert each substring (x) into a floating-point number using float(x). This list of floating-point numbers is stored in the numbers variable.\n",
        "\n",
        "Step 6: Handle invalid input\n",
        "\n",
        "except ValueError:\n",
        "    print(\"Invalid input. Please enter numbers separated by spaces.\")\n",
        "    numbers = []\n",
        "If a ValueError occurs during the conversion in Step 5 (e.g., if the user enters non-numeric text), the code in the except block is executed. It prints an error message to the user and initializes numbers as an empty list to prevent further issues.\n",
        "\n",
        "Step 7: Filter the negative numbers\n",
        "\n",
        "filtered_numbers = filter_negative_numbers(numbers)\n",
        "This line calls the filter_negative_numbers function defined earlier, passing the numbers list as an argument. The function returns a new list containing only the non-negative numbers from the input, and this new list is stored in the filtered_numbers variable.\n",
        "\n",
        "Step 8: Print the original list\n",
        "\n",
        "print(\"Original list:\", numbers)\n",
        "This line prints a label \"Original list:\" followed by the content of the numbers list, showing the numbers entered by the user (or an empty list if there was an input error).\n",
        "\n",
        "Step 9: Print the filtered list\n",
        "\n",
        "print(\"Filtered list (non-negative numbers):\", filtered_numbers)\n",
        "Finally, this line prints a label \"Filtered list (non-negative numbers):\" followed by the content of the filtered_numbers list, which contains only the non-negative numbers from the user's input.\n",
        "\n",
        "These steps collectively take user input, process it to filter out negative numbers, and then display both the original and filtered lists."
      ],
      "metadata": {
        "id": "umNOyxJ66WGZ"
      }
    },
    {
      "cell_type": "code",
      "source": [],
      "metadata": {
        "id": "GdV_AopD6Xxy"
      },
      "execution_count": null,
      "outputs": []
    },
    {
      "cell_type": "markdown",
      "source": [
        "task 2:Ask Gemini to generate code that reads a text file and counts the frequency of each\n",
        "word. Then ask it to explain the code.\n",
        "\n",
        "prompt: write a python programm that reads atext file and counts the frequences of each word"
      ],
      "metadata": {
        "id": "sSaac73h7A5n"
      }
    },
    {
      "cell_type": "code",
      "source": [],
      "metadata": {
        "id": "j_Kp6RLM8Km_"
      },
      "execution_count": null,
      "outputs": []
    },
    {
      "cell_type": "code",
      "source": [
        "from collections import Counter\n",
        "import re\n",
        "\n",
        "def count_word_frequency(filepath):\n",
        "    \"\"\"\n",
        "    Reads a text file and counts the frequency of each word.\n",
        "\n",
        "    Args:\n",
        "        filepath: The path to the text file.\n",
        "\n",
        "    Returns:\n",
        "        A dictionary where keys are words and values are their frequencies.\n",
        "    \"\"\"\n",
        "    word_counts = Counter()\n",
        "    try:\n",
        "        with open(filepath, 'r', encoding='utf-8') as file:\n",
        "            for line in file:\n",
        "                # Remove punctuation and convert to lowercase\n",
        "                words = re.findall(r'\\b\\w+\\b', line.lower())\n",
        "                word_counts.update(words)\n",
        "    except FileNotFoundError:\n",
        "        print(f\"Error: File not found at {filepath}\")\n",
        "        return None\n",
        "    except Exception as e:\n",
        "        print(f\"An error occurred: {e}\")\n",
        "        return None\n",
        "    return dict(word_counts)\n",
        "\n",
        "# Example usage:\n",
        "# Create a dummy text file for demonstration\n",
        "with open(\"sample.txt\", \"w\") as f:\n",
        "    f.write(\"This is a sample text file.\\n\")\n",
        "    f.write(\"This file contains some sample text.\")\n",
        "\n",
        "filepath = \"sample.txt\"\n",
        "word_frequencies = count_word_frequency(filepath)\n",
        "\n",
        "if word_frequencies:\n",
        "    # Print the word frequencies\n",
        "    for word, count in word_frequencies.items():\n",
        "        print(f\"{word}: {count}\")"
      ],
      "metadata": {
        "colab": {
          "base_uri": "https://localhost:8080/"
        },
        "id": "kQfsYofA7MGR",
        "outputId": "4db17aaa-b238-49c6-baa1-ff23fd7160b5"
      },
      "execution_count": 4,
      "outputs": [
        {
          "output_type": "stream",
          "name": "stdout",
          "text": [
            "this: 2\n",
            "is: 1\n",
            "a: 1\n",
            "sample: 2\n",
            "text: 2\n",
            "file: 2\n",
            "contains: 1\n",
            "some: 1\n"
          ]
        }
      ]
    },
    {
      "cell_type": "markdown",
      "source": [
        "from collections import Counter: This line imports the Counter class from the collections module. Counter is a specialized dictionary subclass for counting hashable objects.\n",
        "import re: This line imports the re module, which provides regular expression operations.\n",
        "def count_word_frequency(filepath):: This defines a function named count_word_frequency that takes one argument, filepath, which is the path to the text file.\n",
        "\"\"\"Docstring\"\"\": This is a docstring explaining the function's purpose, arguments, and return value.\n",
        "word_counts = Counter(): This initializes an empty Counter object named word_counts. This object will store the words and their counts.\n",
        "try...except FileNotFoundError...except Exception as e:: This is a try-except block to handle potential errors that might occur during file processing, such as the file not being found (FileNotFoundError) or other general exceptions.\n",
        "with open(filepath, 'r', encoding='utf-8') as file:: This opens the file specified by filepath in read mode ('r') with UTF-8 encoding. The with statement ensures the file is automatically closed even if errors occur.\n",
        "for line in file:: This loop iterates through each line in the opened file.\n",
        "words = re.findall(r'\\b\\w+\\b', line.lower()): For each line, this line does two things:\n",
        "line.lower(): Converts the line to lowercase to ensure that words like \"The\" and \"the\" are counted as the same word.\n",
        "re.findall(r'\\b\\w+\\b', ...): Uses a regular expression to find all word boundaries (\\b) followed by one or more word characters (\\w+) followed by a word boundary (\\b). This effectively extracts individual words and excludes punctuation. The found words are stored in the words list.\n",
        "word_counts.update(words): This updates the word_counts Counter object with the words found in the current line. If a word already exists in word_counts, its count is incremented; otherwise, the word is added with a count of 1.\n",
        "return dict(word_counts): After processing all lines, the function converts the word_counts Counter object into a regular dictionary and returns it.\n",
        "print(f\"Error: File not found at {filepath}\") and return None: If a FileNotFoundError occurs, this prints an error message and the function returns None.\n",
        "print(f\"An error occurred: {e}\") and return None: If any other exception occurs, this prints a general error message including the exception details and the function returns None.\n",
        "The code then provides an example usage:\n",
        "\n",
        "with open(\"sample.txt\", \"w\") as f:: This creates a dummy text file named \"sample.txt\" in write mode ('w').\n",
        "f.write(...): These lines write some sample text into the \"sample.txt\" file.\n",
        "filepath = \"sample.txt\": This sets the filepath variable to the name of the dummy file.\n",
        "word_frequencies = count_word_frequency(filepath): This calls the count_word_frequency function with the path to the dummy file and stores the returned dictionary of word frequencies in the word_frequencies variable.\n",
        "if word_frequencies:: This checks if word_frequencies is not None (meaning the file was processed successfully).\n",
        "for word, count in word_frequencies.items(): print(f\"{word}: {count}\"): If the file was processed successfully, this loop iterates through the items (word and count pairs) in the word_frequencies dictionary and prints each word and its frequency.\n",
        "In summary, the code defines a reusable function to count word frequencies in a text file, handling potential file errors, and then demonstrates its usage by creating a sample file and printing the word counts.\n",
        "\n"
      ],
      "metadata": {
        "id": "uar5ckgI7_RD"
      }
    },
    {
      "cell_type": "code",
      "source": [],
      "metadata": {
        "id": "5lYhv8iU8BLY"
      },
      "execution_count": null,
      "outputs": []
    },
    {
      "cell_type": "markdown",
      "source": [
        "task 3:Use Cursor AI to generate a Python class called Book with attributes title, author, and\n",
        "a method summary() that prints the details\n",
        "\n",
        "prompt: generate a Python class called Book with attributes title, author, and\n",
        "a method summary() that prints the details"
      ],
      "metadata": {
        "id": "PT2SfLEK8gSY"
      }
    },
    {
      "cell_type": "code",
      "source": [
        "class Book:\n",
        "    \"\"\"\n",
        "    Represents a book with title and author.\n",
        "    \"\"\"\n",
        "    def __init__(self, title, author):\n",
        "        \"\"\"\n",
        "        Initializes a new Book instance.\n",
        "\n",
        "        Args:\n",
        "            title: The title of the book.\n",
        "            author: The author of the book.\n",
        "        \"\"\"\n",
        "        self.title = title\n",
        "        self.author = author\n",
        "\n",
        "    def summary(self):\n",
        "        \"\"\"\n",
        "        Prints the details of the book.\n",
        "        \"\"\"\n",
        "        print(f\"Title: {self.title}\")\n",
        "        print(f\"Author: {self.author}\")\n",
        "\n",
        "# Example usage:\n",
        "my_book = Book(\"The Hitchhiker's Guide to the Galaxy\", \"Douglas Adams\")\n",
        "my_book.summary()"
      ],
      "metadata": {
        "id": "VyFLzVdM8mUz"
      },
      "execution_count": null,
      "outputs": []
    },
    {
      "cell_type": "markdown",
      "source": [
        "Step 1: Class Definition (class Book:)\n",
        "\n",
        "class Book:\n",
        "    # ... class content ...\n",
        "This line begins the definition of a Python class named Book. Think of a class as a blueprint for creating objects that share similar properties and behaviors.\n",
        "\n",
        "Step 2: Class Docstring\n",
        "\n",
        "    \"\"\"\n",
        "    Represents a book with title and author.\n",
        "    \"\"\"\n",
        "This is a docstring for the class. It's a clear description of what the Book class is intended to represent – in this case, a book with information about its title and author.\n",
        "\n",
        "Step 3: Constructor Method (__init__)\n",
        "\n",
        "    def __init__(self, title, author):\n",
        "        \"\"\"\n",
        "        Initializes a new Book instance.\n",
        "\n",
        "        Args:\n",
        "            title: The title of the book.\n",
        "            author: The author of the book.\n",
        "        \"\"\"\n",
        "        # ... initialization code ...\n",
        "This is a special method called the constructor. It's automatically executed when you create a new object (an instance) of the Book class. It takes self (which refers to the object being created) and two parameters: title and author. The docstring explains its purpose and arguments.\n",
        "\n",
        "Step 4: Attribute Assignment\n",
        "\n",
        "        self.title = title\n",
        "        self.author = author\n",
        "Inside the constructor, these lines assign the values passed for title and author to attributes of the Book object being created. self.title means the title attribute of the current Book instance, and self.author means its author attribute.\n",
        "\n",
        "Step 5: Summary Method Definition\n",
        "\n",
        "    def summary(self):\n",
        "        \"\"\"\n",
        "        Prints the details of the book.\n",
        "        \"\"\"\n",
        "        # ... printing code ...\n",
        "This defines a method named summary for the Book class. Methods are functions associated with an object that perform actions. This method takes self as an argument, allowing it to access the object's attributes. The docstring explains that it prints the book's details.\n",
        "\n",
        "Step 6: Printing Book Details\n",
        "\n",
        "        print(f\"Title: {self.title}\")\n",
        "        print(f\"Author: {self.author}\")\n",
        "Inside the summary method, these lines print the values of the title and author attributes of the Book object. f-strings (f\"...\") are used to easily embed the attribute values within the output strings.\n",
        "\n",
        "Step 7: Example Usage - Creating a Book Object\n",
        "\n",
        "# Example usage:\n",
        "my_book = Book(\"The Hitchhiker's Guide to the Galaxy\", \"Douglas Adams\")\n",
        "This section demonstrates how to use the Book class. This specific line creates a new instance of the Book class, passing \"The Hitchhiker's Guide to the Galaxy\" as the title and \"Douglas Adams\" as the author. The created object is assigned to the variable my_book.\n",
        "\n",
        "Step 8: Calling the Summary Method\n",
        "\n",
        "my_book.summary()\n",
        "This line calls the summary method on the my_book object. This will execute the code within the summary method for this specific Book instance, printing its title and author"
      ],
      "metadata": {
        "id": "oMqMj1jx9R06"
      }
    },
    {
      "cell_type": "code",
      "source": [],
      "metadata": {
        "id": "XB9Vthx19THC"
      },
      "execution_count": 4,
      "outputs": []
    },
    {
      "cell_type": "markdown",
      "source": [
        "task 4:Ask Gemini to write a program that checks whether a number is an Armstrong\n",
        "number, and then modify it using Cursor AI to improve performance or structure\n",
        "prompt: write a program that checks whether a number is an Armstrong\n",
        "number, and then modify it using Cursor AI to improve performance or structure"
      ],
      "metadata": {
        "id": "BriyKey59kFw"
      }
    },
    {
      "cell_type": "code",
      "source": [
        "def is_armstrong_number(number):\n",
        "    \"\"\"\n",
        "    Checks if a number is an Armstrong number.\n",
        "\n",
        "    Args:\n",
        "        number: An integer.\n",
        "\n",
        "    Returns:\n",
        "        True if the number is an Armstrong number, False otherwise.\n",
        "    \"\"\"\n",
        "    # Convert the number to a string to easily count digits and access them\n",
        "    num_str = str(number)\n",
        "    num_digits = len(num_str)\n",
        "    sum_of_powers = 0\n",
        "\n",
        "    # Calculate the sum of digits raised to the power of the number of digits\n",
        "    for digit in num_str:\n",
        "        sum_of_powers += int(digit) ** num_digits\n",
        "\n",
        "    # Check if the sum of powers is equal to the original number\n",
        "    return sum_of_powers == number\n",
        "\n",
        "# Get input from the user\n",
        "try:\n",
        "    user_input = int(input(\"Enter a non-negative integer: \"))\n",
        "    if user_input < 0:\n",
        "        print(\"Please enter a non-negative integer.\")\n",
        "    else:\n",
        "        if is_armstrong_number(user_input):\n",
        "            print(f\"{user_input} is an Armstrong number.\")\n",
        "        else:\n",
        "            print(f\"{user_input} is not an Armstrong number.\")\n",
        "except ValueError:\n",
        "    print(\"Invalid input. Please enter an integer.\")"
      ],
      "metadata": {
        "id": "QDqSS8HE9xk1"
      },
      "execution_count": null,
      "outputs": []
    },
    {
      "cell_type": "markdown",
      "source": [
        "Step 1: Define the is_armstrong_number function\n",
        "\n",
        "def is_armstrong_number(number):\n",
        "    \"\"\"\n",
        "    Checks if a number is an Armstrong number.\n",
        "\n",
        "    Args:\n",
        "        number: An integer.\n",
        "\n",
        "    Returns:\n",
        "        True if the number is an Armstrong number, False otherwise.\n",
        "    \"\"\"\n",
        "    # ... function body ...\n",
        "This defines a function named is_armstrong_number that takes one argument, number, which is the integer we want to check. The docstring explains its purpose, arguments, and what it returns.\n",
        "\n",
        "Step 2: Convert the number to a string and get the number of digits\n",
        "\n",
        "    # Convert the number to a string to easily count digits and access them\n",
        "    num_str = str(number)\n",
        "    num_digits = len(num_str)\n",
        "    sum_of_powers = 0\n",
        "Inside the function, the input number is converted to a string (num_str). This makes it easy to determine the number of digits (num_digits) using len() and to iterate through each digit. A variable sum_of_powers is initialized to 0; this will store the sum of each digit raised to the power of the number of digits.\n",
        "\n",
        "Step 3: Calculate the sum of digits raised to the power of the number of digits\n",
        "\n",
        "    # Calculate the sum of digits raised to the power of the number of digits\n",
        "    for digit in num_str:\n",
        "        sum_of_powers += int(digit) ** num_digits\n",
        "This loop iterates through each digit character in the num_str. For each digit:\n",
        "\n",
        "int(digit): Converts the digit character back to an integer.\n",
        "** num_digits: Raises the integer value of the digit to the power of the total number of digits in the original number.\n",
        "sum_of_powers += ...: Adds the result of the power calculation to the sum_of_powers variable.\n",
        "Step 4: Check if the sum of powers equals the original number\n",
        "\n",
        "    # Check if the sum of powers is equal to the original number\n",
        "    return sum_of_powers == number\n",
        "After the loop finishes, this line compares the calculated sum_of_powers with the original number. If they are equal, the function returns True (indicating it's an Armstrong number); otherwise, it returns False.\n",
        "\n",
        "Step 5: Get input from the user\n",
        "\n",
        "# Get input from the user\n",
        "try:\n",
        "    user_input = int(input(\"Enter a non-negative integer: \"))\n",
        "    # ... input validation and check ...\n",
        "except ValueError:\n",
        "    print(\"Invalid input. Please enter an integer.\")\n",
        "This part of the code handles getting input from the user. It uses a try-except block to catch potential ValueError if the user enters something that cannot be converted to an integer. Inside the try block, it prompts the user to enter a non-negative integer and attempts to convert the input to an integer.\n",
        "\n",
        "Step 6: Validate input and check if it's an Armstrong number\n",
        "\n",
        "    if user_input < 0:\n",
        "        print(\"Please enter a non-negative integer.\")\n",
        "    else:\n",
        "        if is_armstrong_number(user_input):\n",
        "            print(f\"{user_input} is an Armstrong number.\")\n",
        "        else:\n",
        "            print(f\"{user_input} is not an Armstrong number.\")\n",
        "If the input conversion is successful, this code block checks if the user_input is less than 0. If it is, it prints a message asking for a non-negative integer. Otherwise, it calls the is_armstrong_number function with the user_input. Based on the boolean value returned by the function, it prints whether the entered number is an Armstrong number or not.\n",
        "\n",
        "Step 7: Handle invalid input (non-integer)\n",
        "\n",
        "except ValueError:\n",
        "    print(\"Invalid input. Please enter an integer.\")\n",
        "If a ValueError occurs during the int(input(...)) conversion in Step 5 (meaning the user didn't enter a valid integer), the code inside the except block is executed, printing an \"Invalid input\" message."
      ],
      "metadata": {
        "id": "aQaQb48--DCj"
      }
    },
    {
      "cell_type": "markdown",
      "source": [
        "task 05:Use both Gemini and Cursor AI to generate code for sorting a list of dictionaries by a\n",
        "specific key (e.g., age\n",
        "prompt:  generate code for sorting a list of dictionaries by a\n",
        "specific key (e.g., age"
      ],
      "metadata": {
        "id": "zjN-Jtrw-Eed"
      }
    },
    {
      "cell_type": "markdown",
      "source": [],
      "metadata": {
        "id": "NeGg3CNp9ytO"
      }
    },
    {
      "cell_type": "code",
      "source": [
        "def sort_list_of_dictionaries(list_of_dicts, key_to_sort_by):\n",
        "    \"\"\"\n",
        "    Sorts a list of dictionaries by a specific key.\n",
        "\n",
        "    Args:\n",
        "        list_of_dicts: A list of dictionaries.\n",
        "        key_to_sort_by: The key to sort the dictionaries by.\n",
        "\n",
        "    Returns:\n",
        "        A new list of dictionaries sorted by the specified key.\n",
        "    \"\"\"\n",
        "    return sorted(list_of_dicts, key=lambda x: x[key_to_sort_by])\n",
        "\n",
        "# Example usage:\n",
        "data = [\n",
        "    {\"name\": \"Alice\", \"age\": 30},\n",
        "    {\"name\": \"Bob\", \"age\": 25},\n",
        "    {\"name\": \"Charlie\", \"age\": 35}\n",
        "]\n",
        "\n",
        "sorted_data = sort_list_of_dictionaries(data, \"age\")\n",
        "\n",
        "print(\"Original data:\", data)\n",
        "print(\"Sorted data by age:\", sorted_data)\n",
        "\n",
        "sorted_data_name = sort_list_of_dictionaries(data, \"name\")\n",
        "print(\"Sorted data by name:\", sorted_data_name)"
      ],
      "metadata": {
        "id": "qasd__Xy-X2D"
      },
      "execution_count": null,
      "outputs": []
    },
    {
      "cell_type": "markdown",
      "source": [
        "tep 1: Define the sort_list_of_dictionaries function\n",
        "\n",
        "def sort_list_of_dictionaries(list_of_dicts, key_to_sort_by):\n",
        "    \"\"\"\n",
        "    Sorts a list of dictionaries by a specific key.\n",
        "\n",
        "    Args:\n",
        "        list_of_dicts: A list of dictionaries.\n",
        "        key_to_sort_by: The key to sort the dictionaries by.\n",
        "\n",
        "    Returns:\n",
        "        A new list of dictionaries sorted by the specified key.\n",
        "    \"\"\"\n",
        "    # ... function body ...\n",
        "This defines a function named sort_list_of_dictionaries that takes two arguments: list_of_dicts (the list of dictionaries to be sorted) and key_to_sort_by (the string representing the key within each dictionary to use for sorting). The docstring explains the function's purpose, arguments, and return value.\n",
        "\n",
        "Step 2: Use the sorted() function with a lambda key\n",
        "\n",
        "    return sorted(list_of_dicts, key=lambda x: x[key_to_sort_by])\n",
        "This is the core of the sorting logic.\n",
        "\n",
        "sorted(list_of_dicts, ...): This built-in Python function returns a new sorted list from the items in list_of_dicts.\n",
        "key=lambda x: x[key_to_sort_by]: The key argument specifies a function of one argument that is used to extract a comparison key from each element in list_of_dicts.\n",
        "lambda x: ...: This defines a small, anonymous function (a lambda function).\n",
        "x: In this context, x represents each individual dictionary in the list_of_dicts as the sorted() function iterates through them.\n",
        "x[key_to_sort_by]: This accesses the value associated with the key_to_sort_by string within the current dictionary x. The sorted() function will use these values as the basis for sorting the dictionaries.\n",
        "The function returns the new sorted list of dictionaries.\n",
        "\n",
        "Step 3: Example Usage - Create a sample list of dictionaries\n",
        "\n",
        "# Example usage:\n",
        "data = [\n",
        "    {\"name\": \"Alice\", \"age\": 30},\n",
        "    {\"name\": \"Bob\", \"age\": 25},\n",
        "    {\"name\": \"Charlie\", \"age\": 35}\n",
        "]\n",
        "This section demonstrates how to use the function by creating a sample list of dictionaries named data, where each dictionary represents a person with a \"name\" and an \"age\".\n",
        "\n",
        "Step 4: Sort the data by age\n",
        "\n",
        "sorted_data = sort_list_of_dictionaries(data, \"age\")\n",
        "This line calls the sort_list_of_dictionaries function with the data list and the string \"age\" as the key_to_sort_by. The function returns a new list of dictionaries sorted based on the \"age\" values, and this list is stored in the sorted_data variable.\n",
        "\n",
        "Step 5: Print the original and age-sorted data\n",
        "\n",
        "print(\"Original data:\", data)\n",
        "print(\"Sorted data by age:\", sorted_data)\n",
        "These lines print the original data list and the sorted_data list (sorted by age) to show the result of the sorting.\n",
        "\n",
        "Step 6: Sort the data by name\n",
        "\n",
        "sorted_data_name = sort_list_of_dictionaries(data, \"name\")\n",
        "This line demonstrates sorting by a different key. It calls the sort_list_of_dictionaries function with the original data list and the string \"name\" as the key_to_sort_by. The function returns a new list sorted by \"name\", and this list is stored in the sorted_data_name variable.\n",
        "\n",
        "Step 7: Print the name-sorted data\n",
        "\n",
        "print(\"Sorted data by name:\", sorted_data_name)\n",
        "This line prints the sorted_data_name list to show the result of sorting by name."
      ],
      "metadata": {
        "id": "136Yg1Ua-kBX"
      }
    },
    {
      "cell_type": "code",
      "source": [],
      "metadata": {
        "id": "MIRTfhWC9yLH"
      },
      "execution_count": null,
      "outputs": []
    }
  ]
}